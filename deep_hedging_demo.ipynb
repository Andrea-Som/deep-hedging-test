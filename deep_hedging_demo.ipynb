{
  "nbformat": 4,
  "nbformat_minor": 0,
  "metadata": {
    "colab": {
      "name": "Deep Hedging",
      "provenance": [],
      "collapsed_sections": [],
      "authorship_tag": "ABX9TyOQW9Cd48z/MSRX2E8R/xWL",
      "include_colab_link": true
    },
    "kernelspec": {
      "name": "python3",
      "display_name": "Python 3"
    },
    "widgets": {
      "application/vnd.jupyter.widget-state+json": {
        "2212544fdc91427b8440f36d6df43096": {
          "model_module": "@jupyter-widgets/controls",
          "model_name": "HBoxModel",
          "state": {
            "_view_name": "HBoxView",
            "_dom_classes": [],
            "_model_name": "HBoxModel",
            "_view_module": "@jupyter-widgets/controls",
            "_model_module_version": "1.5.0",
            "_view_count": null,
            "_view_module_version": "1.5.0",
            "box_style": "",
            "layout": "IPY_MODEL_c1d78fc5f2444246a04957b08a0efea2",
            "_model_module": "@jupyter-widgets/controls",
            "children": [
              "IPY_MODEL_c8fe4567155348dcaf736975a514d43c",
              "IPY_MODEL_35e1c9492d234ff1a3ea69394eb7140a"
            ]
          }
        },
        "c1d78fc5f2444246a04957b08a0efea2": {
          "model_module": "@jupyter-widgets/base",
          "model_name": "LayoutModel",
          "state": {
            "_view_name": "LayoutView",
            "grid_template_rows": null,
            "right": null,
            "justify_content": null,
            "_view_module": "@jupyter-widgets/base",
            "overflow": null,
            "_model_module_version": "1.2.0",
            "_view_count": null,
            "flex_flow": null,
            "width": null,
            "min_width": null,
            "border": null,
            "align_items": null,
            "bottom": null,
            "_model_module": "@jupyter-widgets/base",
            "top": null,
            "grid_column": null,
            "overflow_y": null,
            "overflow_x": null,
            "grid_auto_flow": null,
            "grid_area": null,
            "grid_template_columns": null,
            "flex": null,
            "_model_name": "LayoutModel",
            "justify_items": null,
            "grid_row": null,
            "max_height": null,
            "align_content": null,
            "visibility": null,
            "align_self": null,
            "height": null,
            "min_height": null,
            "padding": null,
            "grid_auto_rows": null,
            "grid_gap": null,
            "max_width": null,
            "order": null,
            "_view_module_version": "1.2.0",
            "grid_template_areas": null,
            "object_position": null,
            "object_fit": null,
            "grid_auto_columns": null,
            "margin": null,
            "display": null,
            "left": null
          }
        },
        "c8fe4567155348dcaf736975a514d43c": {
          "model_module": "@jupyter-widgets/controls",
          "model_name": "FloatProgressModel",
          "state": {
            "_view_name": "ProgressView",
            "style": "IPY_MODEL_3787c84e0c3a497d832d1df22b3afd3f",
            "_dom_classes": [],
            "description": " 73%",
            "_model_name": "FloatProgressModel",
            "bar_style": "danger",
            "max": 100,
            "_view_module": "@jupyter-widgets/controls",
            "_model_module_version": "1.5.0",
            "value": 73,
            "_view_count": null,
            "_view_module_version": "1.5.0",
            "orientation": "horizontal",
            "min": 0,
            "description_tooltip": null,
            "_model_module": "@jupyter-widgets/controls",
            "layout": "IPY_MODEL_cb454b32d92e4e818c95ad4b8068c8bf"
          }
        },
        "35e1c9492d234ff1a3ea69394eb7140a": {
          "model_module": "@jupyter-widgets/controls",
          "model_name": "HTMLModel",
          "state": {
            "_view_name": "HTMLView",
            "style": "IPY_MODEL_644dfac087634fc59f4166d51a55ef47",
            "_dom_classes": [],
            "description": "",
            "_model_name": "HTMLModel",
            "placeholder": "​",
            "_view_module": "@jupyter-widgets/controls",
            "_model_module_version": "1.5.0",
            "value": " 73/100 [23:45&lt;08:47, 19.52s/epoch, loss=2.58, val_loss=2.59, lr=0.00075]",
            "_view_count": null,
            "_view_module_version": "1.5.0",
            "description_tooltip": null,
            "_model_module": "@jupyter-widgets/controls",
            "layout": "IPY_MODEL_73659b32b7574a5dbf58abe6a83f5dc5"
          }
        },
        "3787c84e0c3a497d832d1df22b3afd3f": {
          "model_module": "@jupyter-widgets/controls",
          "model_name": "ProgressStyleModel",
          "state": {
            "_view_name": "StyleView",
            "_model_name": "ProgressStyleModel",
            "description_width": "initial",
            "_view_module": "@jupyter-widgets/base",
            "_model_module_version": "1.5.0",
            "_view_count": null,
            "_view_module_version": "1.2.0",
            "bar_color": null,
            "_model_module": "@jupyter-widgets/controls"
          }
        },
        "cb454b32d92e4e818c95ad4b8068c8bf": {
          "model_module": "@jupyter-widgets/base",
          "model_name": "LayoutModel",
          "state": {
            "_view_name": "LayoutView",
            "grid_template_rows": null,
            "right": null,
            "justify_content": null,
            "_view_module": "@jupyter-widgets/base",
            "overflow": null,
            "_model_module_version": "1.2.0",
            "_view_count": null,
            "flex_flow": null,
            "width": null,
            "min_width": null,
            "border": null,
            "align_items": null,
            "bottom": null,
            "_model_module": "@jupyter-widgets/base",
            "top": null,
            "grid_column": null,
            "overflow_y": null,
            "overflow_x": null,
            "grid_auto_flow": null,
            "grid_area": null,
            "grid_template_columns": null,
            "flex": null,
            "_model_name": "LayoutModel",
            "justify_items": null,
            "grid_row": null,
            "max_height": null,
            "align_content": null,
            "visibility": null,
            "align_self": null,
            "height": null,
            "min_height": null,
            "padding": null,
            "grid_auto_rows": null,
            "grid_gap": null,
            "max_width": null,
            "order": null,
            "_view_module_version": "1.2.0",
            "grid_template_areas": null,
            "object_position": null,
            "object_fit": null,
            "grid_auto_columns": null,
            "margin": null,
            "display": null,
            "left": null
          }
        },
        "644dfac087634fc59f4166d51a55ef47": {
          "model_module": "@jupyter-widgets/controls",
          "model_name": "DescriptionStyleModel",
          "state": {
            "_view_name": "StyleView",
            "_model_name": "DescriptionStyleModel",
            "description_width": "",
            "_view_module": "@jupyter-widgets/base",
            "_model_module_version": "1.5.0",
            "_view_count": null,
            "_view_module_version": "1.2.0",
            "_model_module": "@jupyter-widgets/controls"
          }
        },
        "73659b32b7574a5dbf58abe6a83f5dc5": {
          "model_module": "@jupyter-widgets/base",
          "model_name": "LayoutModel",
          "state": {
            "_view_name": "LayoutView",
            "grid_template_rows": null,
            "right": null,
            "justify_content": null,
            "_view_module": "@jupyter-widgets/base",
            "overflow": null,
            "_model_module_version": "1.2.0",
            "_view_count": null,
            "flex_flow": null,
            "width": null,
            "min_width": null,
            "border": null,
            "align_items": null,
            "bottom": null,
            "_model_module": "@jupyter-widgets/base",
            "top": null,
            "grid_column": null,
            "overflow_y": null,
            "overflow_x": null,
            "grid_auto_flow": null,
            "grid_area": null,
            "grid_template_columns": null,
            "flex": null,
            "_model_name": "LayoutModel",
            "justify_items": null,
            "grid_row": null,
            "max_height": null,
            "align_content": null,
            "visibility": null,
            "align_self": null,
            "height": null,
            "min_height": null,
            "padding": null,
            "grid_auto_rows": null,
            "grid_gap": null,
            "max_width": null,
            "order": null,
            "_view_module_version": "1.2.0",
            "grid_template_areas": null,
            "object_position": null,
            "object_fit": null,
            "grid_auto_columns": null,
            "margin": null,
            "display": null,
            "left": null
          }
        },
        "70bcb7d06bc7401bb9ad078bda15678c": {
          "model_module": "@jupyter-widgets/controls",
          "model_name": "HBoxModel",
          "state": {
            "_view_name": "HBoxView",
            "_dom_classes": [],
            "_model_name": "HBoxModel",
            "_view_module": "@jupyter-widgets/controls",
            "_model_module_version": "1.5.0",
            "_view_count": null,
            "_view_module_version": "1.5.0",
            "box_style": "",
            "layout": "IPY_MODEL_8c5be43ff6ce4d2bb81816275675e3ba",
            "_model_module": "@jupyter-widgets/controls",
            "children": [
              "IPY_MODEL_04a8a77303924f6e884c6a799d079248",
              "IPY_MODEL_7026e36f13f843db8f23455bbcf1d0d7"
            ]
          }
        },
        "8c5be43ff6ce4d2bb81816275675e3ba": {
          "model_module": "@jupyter-widgets/base",
          "model_name": "LayoutModel",
          "state": {
            "_view_name": "LayoutView",
            "grid_template_rows": null,
            "right": null,
            "justify_content": null,
            "_view_module": "@jupyter-widgets/base",
            "overflow": null,
            "_model_module_version": "1.2.0",
            "_view_count": null,
            "flex_flow": null,
            "width": null,
            "min_width": null,
            "border": null,
            "align_items": null,
            "bottom": null,
            "_model_module": "@jupyter-widgets/base",
            "top": null,
            "grid_column": null,
            "overflow_y": null,
            "overflow_x": null,
            "grid_auto_flow": null,
            "grid_area": null,
            "grid_template_columns": null,
            "flex": null,
            "_model_name": "LayoutModel",
            "justify_items": null,
            "grid_row": null,
            "max_height": null,
            "align_content": null,
            "visibility": null,
            "align_self": null,
            "height": null,
            "min_height": null,
            "padding": null,
            "grid_auto_rows": null,
            "grid_gap": null,
            "max_width": null,
            "order": null,
            "_view_module_version": "1.2.0",
            "grid_template_areas": null,
            "object_position": null,
            "object_fit": null,
            "grid_auto_columns": null,
            "margin": null,
            "display": null,
            "left": null
          }
        },
        "04a8a77303924f6e884c6a799d079248": {
          "model_module": "@jupyter-widgets/controls",
          "model_name": "FloatProgressModel",
          "state": {
            "_view_name": "ProgressView",
            "style": "IPY_MODEL_0ec86821ed9348c1b78c89f389697492",
            "_dom_classes": [],
            "description": "100%",
            "_model_name": "FloatProgressModel",
            "bar_style": "info",
            "max": 100000,
            "_view_module": "@jupyter-widgets/controls",
            "_model_module_version": "1.5.0",
            "value": 100000,
            "_view_count": null,
            "_view_module_version": "1.5.0",
            "orientation": "horizontal",
            "min": 0,
            "description_tooltip": null,
            "_model_module": "@jupyter-widgets/controls",
            "layout": "IPY_MODEL_012c9f65470d4013a32c892102a28abd"
          }
        },
        "7026e36f13f843db8f23455bbcf1d0d7": {
          "model_module": "@jupyter-widgets/controls",
          "model_name": "HTMLModel",
          "state": {
            "_view_name": "HTMLView",
            "style": "IPY_MODEL_f3d3cb78c4d14198ada6c621ad154f99",
            "_dom_classes": [],
            "description": "",
            "_model_name": "HTMLModel",
            "placeholder": "​",
            "_view_module": "@jupyter-widgets/controls",
            "_model_module_version": "1.5.0",
            "value": " 390.625/390.625 [00:18&lt;00:00, 22.62batch/s, loss=2.55]",
            "_view_count": null,
            "_view_module_version": "1.5.0",
            "description_tooltip": null,
            "_model_module": "@jupyter-widgets/controls",
            "layout": "IPY_MODEL_5cf1ffe52e05497ca42a245c96adf34e"
          }
        },
        "0ec86821ed9348c1b78c89f389697492": {
          "model_module": "@jupyter-widgets/controls",
          "model_name": "ProgressStyleModel",
          "state": {
            "_view_name": "StyleView",
            "_model_name": "ProgressStyleModel",
            "description_width": "initial",
            "_view_module": "@jupyter-widgets/base",
            "_model_module_version": "1.5.0",
            "_view_count": null,
            "_view_module_version": "1.2.0",
            "bar_color": null,
            "_model_module": "@jupyter-widgets/controls"
          }
        },
        "012c9f65470d4013a32c892102a28abd": {
          "model_module": "@jupyter-widgets/base",
          "model_name": "LayoutModel",
          "state": {
            "_view_name": "LayoutView",
            "grid_template_rows": null,
            "right": null,
            "justify_content": null,
            "_view_module": "@jupyter-widgets/base",
            "overflow": null,
            "_model_module_version": "1.2.0",
            "_view_count": null,
            "flex_flow": null,
            "width": null,
            "min_width": null,
            "border": null,
            "align_items": null,
            "bottom": null,
            "_model_module": "@jupyter-widgets/base",
            "top": null,
            "grid_column": null,
            "overflow_y": null,
            "overflow_x": null,
            "grid_auto_flow": null,
            "grid_area": null,
            "grid_template_columns": null,
            "flex": null,
            "_model_name": "LayoutModel",
            "justify_items": null,
            "grid_row": null,
            "max_height": null,
            "align_content": null,
            "visibility": null,
            "align_self": null,
            "height": null,
            "min_height": null,
            "padding": null,
            "grid_auto_rows": null,
            "grid_gap": null,
            "max_width": null,
            "order": null,
            "_view_module_version": "1.2.0",
            "grid_template_areas": null,
            "object_position": null,
            "object_fit": null,
            "grid_auto_columns": null,
            "margin": null,
            "display": null,
            "left": null
          }
        },
        "f3d3cb78c4d14198ada6c621ad154f99": {
          "model_module": "@jupyter-widgets/controls",
          "model_name": "DescriptionStyleModel",
          "state": {
            "_view_name": "StyleView",
            "_model_name": "DescriptionStyleModel",
            "description_width": "",
            "_view_module": "@jupyter-widgets/base",
            "_model_module_version": "1.5.0",
            "_view_count": null,
            "_view_module_version": "1.2.0",
            "_model_module": "@jupyter-widgets/controls"
          }
        },
        "5cf1ffe52e05497ca42a245c96adf34e": {
          "model_module": "@jupyter-widgets/base",
          "model_name": "LayoutModel",
          "state": {
            "_view_name": "LayoutView",
            "grid_template_rows": null,
            "right": null,
            "justify_content": null,
            "_view_module": "@jupyter-widgets/base",
            "overflow": null,
            "_model_module_version": "1.2.0",
            "_view_count": null,
            "flex_flow": null,
            "width": null,
            "min_width": null,
            "border": null,
            "align_items": null,
            "bottom": null,
            "_model_module": "@jupyter-widgets/base",
            "top": null,
            "grid_column": null,
            "overflow_y": null,
            "overflow_x": null,
            "grid_auto_flow": null,
            "grid_area": null,
            "grid_template_columns": null,
            "flex": null,
            "_model_name": "LayoutModel",
            "justify_items": null,
            "grid_row": null,
            "max_height": null,
            "align_content": null,
            "visibility": null,
            "align_self": null,
            "height": null,
            "min_height": null,
            "padding": null,
            "grid_auto_rows": null,
            "grid_gap": null,
            "max_width": null,
            "order": null,
            "_view_module_version": "1.2.0",
            "grid_template_areas": null,
            "object_position": null,
            "object_fit": null,
            "grid_auto_columns": null,
            "margin": null,
            "display": null,
            "left": null
          }
        }
      }
    }
  },
  "cells": [
    {
      "cell_type": "markdown",
      "metadata": {
        "id": "view-in-github",
        "colab_type": "text"
      },
      "source": [
        "<a href=\"https://colab.research.google.com/github/YuMan-Tam/deep-hedging-demo/blob/master/Deep_Hedging_Demo.ipynb\" target=\"_parent\"><img src=\"https://colab.research.google.com/assets/colab-badge.svg\" alt=\"Open In Colab\"/></a>"
      ]
    },
    {
      "cell_type": "code",
      "metadata": {
        "id": "nMnI5JIocCaD",
        "colab_type": "code",
        "cellView": "form",
        "outputId": "c6063562-1420-432a-fc9c-3f03f12055c6",
        "colab": {
          "base_uri": "https://localhost:8080/",
          "height": 51
        }
      },
      "source": [
        "#@title <font color='Blue'>**Overheads**</font>\n",
        "!apt-get -qq install -y libquantlib0-dev\n",
        "!pip -q install QuantLib pathos tqdm==4.41.1\n",
        "\n",
        "%tensorflow_version 2.x\n",
        "\n",
        "from tqdm import trange\n",
        "from tqdm.keras import TqdmCallback\n",
        "import pathos.multiprocessing as mp\n",
        "from IPython.display import clear_output\n",
        "\n",
        "import numpy as np\n",
        "import QuantLib as ql\n",
        "import tensorflow as tf\n",
        "from itertools import repeat\n",
        "from tensorflow.keras.callbacks import EarlyStopping, ModelCheckpoint, \\\n",
        "                                            ReduceLROnPlateau\n",
        "from tensorflow.compat.v1.keras.optimizers import Adam\n",
        "from tensorflow.keras.models import Model\n",
        "\n",
        "tf.compat.v1.logging.set_verbosity(tf.compat.v1.logging.ERROR)\n",
        "\n",
        "import matplotlib.pyplot as plt\n",
        "\n",
        "# Import custom module from github\n",
        "!rm -rf deep-hedging-demo\n",
        "!git clone https://github.com/YuMan-Tam/deep-hedging-demo\n",
        "\n",
        "import sys, os\n",
        "sys.path.insert(0, os.getcwd() + \"/deep-hedging-demo/lib\")\n",
        "\n",
        "from Stochastic_Processes import BlackScholesProcess\n",
        "from Utilities import train_test_split, reshape_1D\n",
        "from Deep_Hedging import Deep_Hedging\n",
        "from Validation import Validation\n",
        "\n",
        "clear_output()\n",
        "print(\"\\nFinish installing and importing all necessary libraries!\")"
      ],
      "execution_count": 1,
      "outputs": [
        {
          "output_type": "stream",
          "text": [
            "\n",
            "Finish installing and importing all necessary libraries!\n"
          ],
          "name": "stdout"
        }
      ]
    },
    {
      "cell_type": "markdown",
      "metadata": {
        "id": "GptSMgcl525K",
        "colab_type": "text"
      },
      "source": [
        "**Import all neccessary python, quantitative finance, and machine learning software libraries.**"
      ]
    },
    {
      "cell_type": "code",
      "metadata": {
        "id": "Uusmc7_Uc4wN",
        "colab_type": "code",
        "cellView": "form",
        "colab": {}
      },
      "source": [
        "#@title <font color='Blue'>**User Inputs**</font>\n",
        "\n",
        "# Geometric Brownian Motion.\n",
        "N = 30 # Number of time steps (in days)\n",
        "\n",
        "S0 = 100.0 # Stock price at time = 0\n",
        "sigma = 0.2 # Implied volatility\n",
        "risk_free = 0.0 # Risk-free rate\n",
        "dividend = 0.0 # Continuous dividend yield\n",
        "\n",
        "Ktrain = int(1*(10**5)/0.8) # Size of training sample.\n",
        "Ktest_ratio = 0.2 # % of Ktrain reserved for OOS test.\n",
        "\n",
        "# European call option.\n",
        "strike = S0\n",
        "payoff_func = lambda x: -1.0*np.maximum(x - strike, 0.0)\n",
        "calculation_date = ql.Date.todaysDate()\n",
        "maturity_date = ql.Date.todaysDate() + N\n",
        "\n",
        "# Proporational transaction cost.\n",
        "epsilon = 0.0\n",
        "\n",
        "# Neural network (NN) structure \n",
        "m = 15 # Number of neurons in each hidden layer.\n",
        "d = 2 # Number of hidden layers (Note including input nor output layer)\n",
        "strategy_type = \"simple\" # (\"simple\"/\"recurrent\")                                               \n",
        "                \n",
        "# Loss function\n",
        "# loss_type = \"CVaR\" (Expected Shortfall) -> loss_param = alpha \n",
        "# loss_type = \"Entropy\" -> loss_param = lambda\n",
        "loss_type = \"CVaR\"\n",
        "loss_param = 0.5\n",
        "\n",
        "# Other NN parameters\n",
        "lr = 5e-3 # Learning rate\n",
        "batch_size=256 # Batch size\n",
        "epochs=100 # Number of epochs"
      ],
      "execution_count": 0,
      "outputs": []
    },
    {
      "cell_type": "markdown",
      "metadata": {
        "id": "PR8SZiGi7Ygm",
        "colab_type": "text"
      },
      "source": [
        "**Provide input parameters for Monte Carlo simulation, call option, transaction cost, loss function, and deep hedging algorithm.**"
      ]
    },
    {
      "cell_type": "code",
      "metadata": {
        "id": "vuLfzImssxVz",
        "colab_type": "code",
        "cellView": "form",
        "outputId": "0d8a1ae2-6d66-4709-f4cc-57479dee90c6",
        "colab": {
          "base_uri": "https://localhost:8080/",
          "height": 221
        }
      },
      "source": [
        "#@title <font color='Blue'>**Monte Carlo Simulation - Generate Random Paths of Stock Prices**</font>\n",
        "stochastic_process = BlackScholesProcess(s0 = S0, sigma = sigma, \\\n",
        "                      risk_free = risk_free, dividend = dividend)\n",
        "\n",
        "print(\"Running Monte-Carlo simulation...\\n\")\n",
        "print(\"Simulating geometric brownian motion with:\\n\")\n",
        "print(\"s0 = \" + str(S0))\n",
        "print(\"sigma = \" + str(sigma))\n",
        "print(\"risk_free = \" + str(risk_free) + \"\\n\")\n",
        "print(\"Number of time steps = \" + str(N))\n",
        "print(\"Length of each time step = \" + \"1/365\\n\")\n",
        "maturity = N/365\n",
        "S = stochastic_process.gen_path(maturity, N, Ktrain)\n",
        "print(\"Simulation Done!\")"
      ],
      "execution_count": 3,
      "outputs": [
        {
          "output_type": "stream",
          "text": [
            "Running Monte-Carlo simulation...\n",
            "\n",
            "Simulating geometric brownian motion with:\n",
            "\n",
            "s0 = 100.0\n",
            "sigma = 0.2\n",
            "risk_free = 0.0\n",
            "\n",
            "Number of time steps = 30\n",
            "Length of each time step = 1/365\n",
            "\n",
            "Simulation Done!\n"
          ],
          "name": "stdout"
        }
      ]
    },
    {
      "cell_type": "code",
      "metadata": {
        "id": "b3PXslQawKv1",
        "colab_type": "code",
        "cellView": "form",
        "colab": {}
      },
      "source": [
        "#@title <font color='Blue'>**Prepare data to be fed into the deep hedging algorithm.**</font>\n",
        "\n",
        "payoff_T = payoff_func(S[:,-1]) # Payoff of the call option\n",
        "\n",
        "trade_set =  np.stack((S),axis=1) # Trading set\n",
        "I =  np.stack((S),axis=1) # Information set\n",
        "\n",
        "# Structure of xtrain:\n",
        "#   1) Certainty equivalent: w (dim = 1)\n",
        "#   2) Trade set: [S]\n",
        "#   2) Information set: [S] \n",
        "#   3) payoff (dim = 1)\n",
        "xtrain = [0.0*np.zeros(len(S))]\n",
        "for i in range(N+1):\n",
        "    xtrain += [trade_set[i,:]]\n",
        "    if i != N:\n",
        "        xtrain += [I[i,:]]\n",
        "xtrain += [payoff_T]\n",
        "\n",
        "# Split the entire sample into a training sample and a testing sample.\n",
        "[xtrain, xtest] = train_test_split(xtrain, test_size=Ktest_ratio)\n",
        "[S_train, S_test] = train_test_split([S], test_size=Ktest_ratio)\n",
        "[option_payoff_train, option_payoff_test] = \\\n",
        "    train_test_split([payoff_T], test_size=Ktest_ratio)"
      ],
      "execution_count": 0,
      "outputs": []
    },
    {
      "cell_type": "code",
      "metadata": {
        "id": "L6ykKzCDw8q7",
        "colab_type": "code",
        "cellView": "form",
        "outputId": "f24829c6-fced-4666-e879-1bae0aa16708",
        "colab": {
          "base_uri": "https://localhost:8080/",
          "height": 83,
          "referenced_widgets": [
            "2212544fdc91427b8440f36d6df43096",
            "c1d78fc5f2444246a04957b08a0efea2",
            "c8fe4567155348dcaf736975a514d43c",
            "35e1c9492d234ff1a3ea69394eb7140a",
            "3787c84e0c3a497d832d1df22b3afd3f",
            "cb454b32d92e4e818c95ad4b8068c8bf",
            "644dfac087634fc59f4166d51a55ef47",
            "73659b32b7574a5dbf58abe6a83f5dc5",
            "70bcb7d06bc7401bb9ad078bda15678c",
            "8c5be43ff6ce4d2bb81816275675e3ba",
            "04a8a77303924f6e884c6a799d079248",
            "7026e36f13f843db8f23455bbcf1d0d7",
            "0ec86821ed9348c1b78c89f389697492",
            "012c9f65470d4013a32c892102a28abd",
            "f3d3cb78c4d14198ada6c621ad154f99",
            "5cf1ffe52e05497ca42a245c96adf34e"
          ]
        }
      },
      "source": [
        "#@title <font color='Blue'>**Run the Deep Hedging Algorithm!**</font>\n",
        "\n",
        "optimizer = Adam(learning_rate=lr)\n",
        "\n",
        "# Setup and compile the model\n",
        "model = Deep_Hedging(N=N, d=d+2, m=m, risk_free=risk_free, \\\n",
        "                    maturity=maturity).model( \\\n",
        "                    strategy_type=strategy_type, epsilon = epsilon, \\\n",
        "                    loss_type=loss_type, loss_param = loss_param)\n",
        "model.compile(optimizer=optimizer)\n",
        "\n",
        "# Stopping criteria\n",
        "saved_model_file = \"saved_model.h5\"\n",
        "\n",
        "early_stopping = EarlyStopping(monitor=\"loss\", \\\n",
        "          patience=10, min_delta=1e-4, restore_best_weights=True)\n",
        "reduce_lr = ReduceLROnPlateau(monitor=\"loss\", \\\n",
        "          factor=0.9, patience=2, min_delta=1e-3, verbose=0)\n",
        "model_checkpoint = ModelCheckpoint(saved_model_file, \\\n",
        "          monitor=\"loss\", save_best_only=True, \\\n",
        "          save_weights_only=False, verbose=0)\n",
        "\n",
        "callbacks = [early_stopping, reduce_lr, model_checkpoint, TqdmCallback()]\n",
        "\n",
        "# Fit the model.\n",
        "model_fit = model.fit(x=xtrain, batch_size=batch_size, epochs=epochs, \\\n",
        "            validation_data=(xtest, np.empty(0)), callbacks=callbacks, \\\n",
        "            verbose=0)\n",
        "\n",
        "print(\"Finished running deep hedging algorithm!\")"
      ],
      "execution_count": 5,
      "outputs": [
        {
          "output_type": "display_data",
          "data": {
            "application/vnd.jupyter.widget-view+json": {
              "model_id": "2212544fdc91427b8440f36d6df43096",
              "version_minor": 0,
              "version_major": 2
            },
            "text/plain": [
              "HBox(children=(FloatProgress(value=1.0, bar_style='info', max=1.0), HTML(value='')))"
            ]
          },
          "metadata": {
            "tags": []
          }
        },
        {
          "output_type": "display_data",
          "data": {
            "application/vnd.jupyter.widget-view+json": {
              "model_id": "70bcb7d06bc7401bb9ad078bda15678c",
              "version_minor": 0,
              "version_major": 2
            },
            "text/plain": [
              "HBox(children=(FloatProgress(value=1.0, bar_style='info', max=1.0), HTML(value='')))"
            ]
          },
          "metadata": {
            "tags": []
          }
        },
        {
          "output_type": "stream",
          "text": [
            "\n",
            "Finished running deep hedging algorithm!\n"
          ],
          "name": "stdout"
        }
      ]
    },
    {
      "cell_type": "code",
      "metadata": {
        "id": "A1NKaQCzLoKL",
        "colab_type": "code",
        "cellView": "form",
        "colab": {
          "base_uri": "https://localhost:8080/",
          "height": 68
        },
        "outputId": "669d8334-a373-4a5d-911e-3f525bfea8a0"
      },
      "source": [
        "#@title <font color='Blue'>**Collect Results - Option Prices**</font>\n",
        "report = Validation(model = model, data = xtest, process = stochastic_process)\n",
        "\n",
        "# Specify the instrument as an European call option\n",
        "instrument = report.get_instrument(name = \"European_Call\", strike = strike, \\\n",
        "                                    maturity_date = maturity_date)\n",
        "\n",
        "BS_price = report.get_model_PV(instrument, verbose=False)\n",
        "risk_neutral_price = report.get_risk_neutral_PV(verbose=False)\n",
        "nn_price = model.evaluate(xtest, batch_size=batch_size, verbose=0)\n",
        "\n",
        "print(\"The Black-Scholes model price is \" + str(BS_price) + \".\")\n",
        "print(\"The Risk Neutral price is \" + str(risk_neutral_price) + \".\")\n",
        "print(\"The Deep Hedging price is \" + str(nn_price) + \".\")"
      ],
      "execution_count": 6,
      "outputs": [
        {
          "output_type": "stream",
          "text": [
            "The Black-Scholes model price is 2.2871506280449694.\n",
            "The Risk Neutral price is 2.2711385394161674.\n",
            "The Deep Hedging price is 2.58716421546936.\n"
          ],
          "name": "stdout"
        }
      ]
    },
    {
      "cell_type": "code",
      "metadata": {
        "id": "_4z7UYxBZRE9",
        "colab_type": "code",
        "cellView": "form",
        "colab": {
          "base_uri": "https://localhost:8080/",
          "height": 550
        },
        "outputId": "7c5ae639-c2fd-401c-d90d-3c6e31dab08a"
      },
      "source": [
        "#@title <font color='Blue'>**Results: Black-Scholes PnL vs Deep Hedging PnL**</font>\n",
        "\n",
        "# Compute Black-Scholes delta for each sample path at each time t.\n",
        "length_test_sample = int(Ktrain*Ktest_ratio)\n",
        "model_delta = np.zeros((length_test_sample, N+1))\n",
        "func_delta = lambda i, j: report.get_model_delta(instrument, \\\n",
        "                s0=S_test[0][i,j], calculation_date=calculation_date + j)\n",
        "\n",
        "pool = mp.ProcessPool(nodes = mp.cpu_count())\n",
        "for j in trange(N+1):\n",
        "    model_delta[:,j]  = list(pool.map(func_delta, range(length_test_sample), \\\n",
        "                            repeat(j,length_test_sample)))\n",
        "\n",
        "# Compute Black-Scholes PnL.\n",
        "PnL_BS = np.multiply(S_test[0][:,0], model_delta[:,0])\n",
        "for t in range(1, N):\n",
        "  PnL_BS += np.multiply(S_test[0][:,t], model_delta[:,t] - model_delta[:,t-1])\n",
        "PnL_BS += (np.multiply(S_test[0][:,N],-model_delta[:,N-1]) - option_payoff_test[0])\n",
        "\n",
        "# Compute deep hedging PnL.\n",
        "[PnL_Deep_Hedge, certainty_equiv] = model.predict(xtest,batch_size=1000,verbose=0)\n",
        "\n",
        "# Plot Black-Scholes PnL and Deep Hedging PnL.\n",
        "print(\"\\n\")\n",
        "fig_PnL = plt.figure(dpi= 125, facecolor='w')\n",
        "plt.hist((PnL_BS, reshape_1D(-PnL_Deep_Hedge)), \\\n",
        "         bins=30, label=[\"Black-Scholes PnL\", \"Deep Hedging PnL\"])\n",
        "plt.title(\"Black-Scholes PnL vs Deep Hedging PnL \\n \" + \\\n",
        "          \"epsilon=\" + str(epsilon), fontweight=\"bold\")\n",
        "plt.legend()\n",
        "plt.show()"
      ],
      "execution_count": 7,
      "outputs": [
        {
          "output_type": "stream",
          "text": [
            "100%|██████████| 31/31 [00:40<00:00,  1.26s/it]\n"
          ],
          "name": "stderr"
        },
        {
          "output_type": "stream",
          "text": [
            "\n",
            "\n"
          ],
          "name": "stdout"
        },
        {
          "output_type": "display_data",
          "data": {
            "image/png": "[encoded data removed]",
            "text/plain": [
              "<Figure size 750x500 with 1 Axes>"
            ]
          },
          "metadata": {
            "tags": []
          }
        }
      ]
    },
    {
      "cell_type": "code",
      "metadata": {
        "id": "q_MNSesPIMaz",
        "colab_type": "code",
        "cellView": "form",
        "colab": {
          "base_uri": "https://localhost:8080/",
          "height": 499
        },
        "outputId": "11af5f72-1110-435c-9982-de85827f6449"
      },
      "source": [
        "#@title <font color='Blue'>**Results: Black-Scholes Delta vs Deep Hedging Delta.**</font>\n",
        "days_from_today = 15\n",
        "\n",
        "# x-axis: [Min_S, 10th percentile, ..., 90th percentile,  Max_S]\n",
        "S_range = np.sort(S_test[0][:,days_from_today])\n",
        "S_range = S_range[np.append(np.arange(0, len(S_range), \\\n",
        "                  int(len(S_range)/100)), len(S_range)-1)]\n",
        "\n",
        "# Compute NN delta.\n",
        "submodel = Model(model.get_layer(\"dense_0_\" + \\\n",
        "              str(days_from_today)).input, \\\n",
        "              model.get_layer(\"dense_\" + str(d+1) \\\n",
        "\t\t\t\t\t\t  + \"_\" + str(days_from_today)).output)\n",
        "nn_delta = submodel.predict(S_range.flatten(), batch_size=1000,verbose=0)\n",
        "\n",
        "# Compute Black-Scholes delta for S_range.\n",
        "model_delta = np.zeros(S_range.shape)\n",
        "for i in range(len(S_range)):\n",
        "  model_delta[i] = report.get_model_delta(instrument, s0= S_range[i], \\\n",
        "          calculation_date=calculation_date + days_from_today)\n",
        "  \n",
        "# Create a plot of Black-Scholes delta against deep hedging delta.\n",
        "fig_delta = plt.figure(dpi= 125, facecolor='w')\n",
        "plt.plot(S_range, model_delta, label=\"Black-Scholes Delta\")\n",
        "plt.scatter(S_range,nn_delta, c=\"red\", s=2, label=\"Deep Hedging Delta\")\n",
        "plt.title(\"Black-Scholes Delta vs Deep Hedging Delta \\n \" + \\\n",
        "          \"t=\" + str(days_from_today) + \", \" + \\\n",
        "          \"epsilon=\" + str(epsilon), fontweight=\"bold\")\n",
        "plt.legend()\n",
        "plt.show()"
      ],
      "execution_count": 8,
      "outputs": [
        {
          "output_type": "display_data",
          "data": {
            "image/png": "[encoded data removed]",
            "text/plain": [
              "<Figure size 750x500 with 1 Axes>"
            ]
          },
          "metadata": {
            "tags": []
          }
        }
      ]
    }
  ]
}
