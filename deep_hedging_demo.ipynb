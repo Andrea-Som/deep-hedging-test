{
  "nbformat": 4,
  "nbformat_minor": 0,
  "metadata": {
    "colab": {
      "name": "deep_hedging_grid",
      "provenance": [],
      "collapsed_sections": [],
      "include_colab_link": true
    },
    "kernelspec": {
      "name": "python3",
      "display_name": "Python 3"
    }
  },
  "cells": [
    {
      "cell_type": "markdown",
      "metadata": {
        "id": "view-in-github",
        "colab_type": "text"
      },
      "source": [
        "<a href=\"https://colab.research.google.com/github/YuMan-Tam/deep-hedging-demo/blob/master/deep_hedging_demo.ipynb\" target=\"_parent\"><img src=\"https://colab.research.google.com/assets/colab-badge.svg\" alt=\"Open In Colab\"/></a>"
      ]
    },
    {
      "cell_type": "code",
      "metadata": {
        "id": "nMnI5JIocCaD",
        "colab_type": "code",
        "cellView": "form",
        "colab": {
          "base_uri": "https://localhost:8080/",
          "height": 69
        },
        "outputId": "8c0299df-0a22-45e3-c433-5111957f8f49"
      },
      "source": [
        "#@title <font color='Blue'>**Overheads**</font>\n",
        "\n",
        "# Author: Yu-Man Tam\n",
        "# Last updated: 3/3/2020\n",
        "\n",
        "# Reference: Deep Hedging (2019, Quantitative Finance) by Buehler et al.\n",
        "# https://www.tandfonline.com/doi/abs/10.1080/14697688.2019.1571683\n",
        "\n",
        "import sys, os\n",
        "sys.path.insert(0, os.getcwd() + \"/lib\")\n",
        "\n",
        "# Linear algebra, finance, and machine learning libraries\n",
        "import numpy as np\n",
        "import QuantLib as ql\n",
        "import tensorflow as tf\n",
        "\n",
        "from itertools import repeat\n",
        "import pickle\n",
        "from tensorflow.keras.callbacks import EarlyStopping, ModelCheckpoint, ReduceLROnPlateau\n",
        "from tensorflow.keras.optimizers import Adam\n",
        "from tensorflow.keras.models import Model, load_model\n",
        "import tensorflow.keras.backend as K\n",
        "\n",
        "# For plots and presentation\n",
        "from tqdm import trange, tqdm\n",
        "from tqdm.keras import TqdmCallback\n",
        "import matplotlib\n",
        "import matplotlib.pyplot as plt\n",
        "from matplotlib.animation import FuncAnimation\n",
        "\n",
        "# For Jupyter notebooks\n",
        "from IPython.display import clear_output\n",
        "from IPython.core.display import display, HTML\n",
        "\n",
        "from stochastic_processes import BlackScholesProcess\n",
        "from instruments import European_Call\n",
        "from utilities import train_test_split\n",
        "from deep_hedging import Deep_Hedging_Model\n",
        "from loss_metrics import Entropy, CVaR\n",
        "\n",
        "# Tensorflow settings\n",
        "tf.compat.v1.logging.set_verbosity(tf.compat.v1.logging.ERROR)\n",
        "\n",
        "%load_ext autoreload\n",
        "\n",
        "\n",
        "clear_output()\n",
        "\n",
        "print(\"\\nFinish loading all necessary libraries!\\n\")"
      ],
      "execution_count": 1,
      "outputs": [
        {
          "output_type": "stream",
          "text": [
            "\n",
            "Finish loading all necessary libraries!\n",
            "\n"
          ],
          "name": "stdout"
        }
      ]
    },
    {
      "cell_type": "markdown",
      "metadata": {
        "id": "GptSMgcl525K",
        "colab_type": "text"
      },
      "source": [
        "**Import all neccessary python, quantitative finance, and machine learning software libraries.**"
      ]
    },
    {
      "cell_type": "code",
      "metadata": {
        "id": "Uusmc7_Uc4wN",
        "colab_type": "code",
        "cellView": "form",
        "colab": {
          "base_uri": "https://localhost:8080/",
          "height": 52
        },
        "outputId": "7f6dcfbc-2482-4733-bcd0-70055c7cc5ef"
      },
      "source": [
        "#@title <font color='Blue'>**User Inputs**</font>\n",
        "\n",
        "# Geometric Brownian Motion.\n",
        "N = 30 # Number of time steps (in days)\n",
        "\n",
        "S0 = 100.0 # Stock price at time = 0\n",
        "sigma = 0.2 # Implied volatility\n",
        "risk_free = 0.0 # Risk-free rate\n",
        "dividend = 0.0 # Continuous dividend yield\n",
        "\n",
        "Ktrain = 1*(10**5) # Size of training sample.\n",
        "Ktest_ratio = 0.2 # Fraction of training sample as testing sample.\n",
        "\n",
        "# European call option (short).\n",
        "strike = S0\n",
        "payoff_func = lambda x: -np.maximum(x - strike, 0.0)\n",
        "calculation_date = ql.Date.todaysDate()\n",
        "maturity_date = ql.Date.todaysDate() + N\n",
        "\n",
        "# Day convention.\n",
        "day_count = ql.Actual365Fixed() # Actual/Actual (ISDA)\n",
        "\n",
        "# Proportional transaction cost.\n",
        "epsilon = np.power(2.0,-8)*0.0                 \n",
        "\n",
        "# Information set (in string)\n",
        "# Choose from: S, log_S, normalized_log_S (by S0)\n",
        "information_set = \"normalized_log_S\"\n",
        "\n",
        "# Loss function\n",
        "# loss_type = \"CVaR\" (Expected Shortfall) -> loss_param = alpha \n",
        "# loss_type = \"Entropy\" -> loss_param = lambda\n",
        "loss_type = \"Entropy\"\n",
        "loss_param = 1.0\n",
        "\n",
        "# Neural network (NN) structure\n",
        "m = 15 # Number of neurons in each hidden layer.\n",
        "d = 3 # Number of hidden layers (Note including input nor output layer)         \n",
        "\n",
        "# Other NN parameters\n",
        "lr = 1e-2 # Learning rate\n",
        "batch_size=256 # Batch size\n",
        "epochs=50 # Number of epochs\n",
        "\n",
        "use_batch_norm = False\n",
        "kernel_initializer = \"he_uniform\"\n",
        "\n",
        "activation_dense = \"leaky_relu\"\n",
        "activation_output = \"sigmoid\"\n",
        "final_period_cost = False\n",
        "\n",
        "# Other control flags for development purpose.\n",
        "mc_simulator = \"QuantLib\" # \"QuantLib\" or \"Numpy\"\n",
        "\n",
        "flag_load_simulation_data = True\n",
        "flag_load_model_simple = True\n",
        "flag_load_model_recurrent = False\n",
        "flag_load_BS_delta = True\n",
        "flag_load_BS_asym = True\n",
        "flag_show_fig = False\n",
        "flag_plot_S_range = \"uniform\" # \"uniform\" or \"percentile\"\n",
        "flag_load_PnL_DH_Simple_list = True\n",
        "flag_presenation_mode = True\n",
        "\n",
        "# Output directories\n",
        "simulation_data_dir = \"./data/\"\n",
        "subdir_hyper_param = \"/\".join((str(epsilon),activation_dense,activation_output,str(m),str(d),str(batch_size),\"\"))\n",
        "model_data_dir =\"./data/\" + subdir_hyper_param\n",
        "fig_dir = \"./figure/\"+ subdir_hyper_param\n",
        "\n",
        "print(\"Finish loading all user inputs!\\n\")"
      ],
      "execution_count": 2,
      "outputs": [
        {
          "output_type": "stream",
          "text": [
            "Finish loading all user inputs!\n",
            "\n"
          ],
          "name": "stdout"
        }
      ]
    },
    {
      "cell_type": "markdown",
      "metadata": {
        "id": "PR8SZiGi7Ygm",
        "colab_type": "text"
      },
      "source": [
        "**Provide input parameters for Monte Carlo simulation, call option, transaction cost, loss function, and deep hedging algorithm.**"
      ]
    },
    {
      "cell_type": "code",
      "metadata": {
        "id": "vuLfzImssxVz",
        "colab_type": "code",
        "cellView": "form",
        "colab": {
          "base_uri": "https://localhost:8080/",
          "height": 87
        },
        "outputId": "291a12bd-1619-4fdb-dd3b-253cdb329373"
      },
      "source": [
        "#@title <font color='Blue'>**Monte Carlo Simulation - Generate Random Paths of Stock Prices**</font>\n",
        "\n",
        "# Create a directory if the output directories do not exist.\n",
        "for dir in (simulation_data_dir, model_data_dir, fig_dir):\n",
        "\ttry:\n",
        "\t\tos.makedirs(dir)\n",
        "\texcept:\n",
        "\t\tpass\n",
        "\t\t\n",
        "# Length of one time-step (as fraction of a year).\n",
        "nobs = int(Ktrain*(1+Ktest_ratio)) # Training + Testing\n",
        "\n",
        "dt = day_count.yearFraction(calculation_date,calculation_date + 1) \n",
        "maturity = N*dt # Maturities (in the unit of a year)\n",
        "\n",
        "stochastic_process = BlackScholesProcess(s0 = S0, sigma = sigma, \\\n",
        "                      risk_free = risk_free, dividend = dividend, day_count=day_count)\n",
        "\n",
        "simulation_data_file = simulation_data_dir +\"stock_\" + str(int(np.log10(Ktrain))) + \".npy\"\n",
        "if not flag_load_simulation_data:\n",
        "\tif mc_simulator is \"QuantLib\":\n",
        "\t\tS = stochastic_process.gen_path(maturity, N, nobs)\n",
        "\telif mc_simulator is \"Numpy\":\n",
        "\t\t# Only for geometric Brownian motion\n",
        "\t\trandn = (risk_free - dividend - sigma ** 2 / 2.0) * dt + \\\n",
        "\t\t\t\t\t\t\t\tsigma * np.random.normal(0, np.sqrt(dt), size=(nobs, N))\n",
        "\t\tS = np.hstack((np.ones((nobs,1))*np.log(S0),randn))\n",
        "\t\tS = np.exp(np.cumsum(S,axis=1))\n",
        "\t\t\n",
        "\tnp.save(simulation_data_file, S)\n",
        "else:\t\n",
        "\ttry:\n",
        "\t  print(\"Check if there is usable data from previous simulation...\\n\")\n",
        "\t  S = np.load(simulation_data_file)\n",
        "\t  print(\"Successfully loaded data!!!\\n\")\n",
        "\texcept:\n",
        "\t\tprint(\"There is no simulation data!!!\")"
      ],
      "execution_count": 3,
      "outputs": [
        {
          "output_type": "stream",
          "text": [
            "Check if there is usable data from previous simulation...\n",
            "\n",
            "Successfully loaded data!!!\n",
            "\n"
          ],
          "name": "stdout"
        }
      ]
    },
    {
      "cell_type": "code",
      "metadata": {
        "id": "b3PXslQawKv1",
        "colab_type": "code",
        "cellView": "form",
        "colab": {
          "base_uri": "https://localhost:8080/",
          "height": 35
        },
        "outputId": "8a77864a-1b66-4247-bf8f-d7e373fcf560"
      },
      "source": [
        "#@title <font color='Blue'>**Prepare data to be fed into the deep hedging algorithm.**</font>\n",
        "payoff_T = payoff_func(S[:,-1]) # Payoff of the call option\n",
        "\n",
        "trade_set =  np.stack((S),axis=1) # Trading set\n",
        "\n",
        "if information_set is \"S\":\n",
        "  I =  np.stack((S),axis=1) # Information set\n",
        "elif information_set is \"log_S\":\n",
        "  I =  np.stack((np.log(S)),axis=1)\n",
        "elif information_set is \"normalized_log_S\":\n",
        "\tI =  np.stack((np.log(S/S0)),axis=1)\n",
        "\t\n",
        "# Structure of xtrain:\n",
        "#   1) Trade set: [S]\n",
        "#   2) Information set: [S] \n",
        "#   3) payoff (dim = 1)\n",
        "x_all = []\n",
        "for i in range(N+1):\n",
        "\tx_all += [trade_set[i,:,None]]\n",
        "\tif i != N:\n",
        "\t\tx_all += [I[i,:,None]]\n",
        "x_all += [payoff_T[:,None]]\n",
        "\n",
        "# Split the entire sample into a training sample and a testing sample.\n",
        "test_size = int(Ktrain*Ktest_ratio)\n",
        "[xtrain, xtest] = train_test_split(x_all, test_size=test_size)\n",
        "[S_train, S_test] = train_test_split([S], test_size=test_size)\n",
        "[option_payoff_train, option_payoff_test] = \\\n",
        "    train_test_split([x_all[-1]], test_size=test_size)\n",
        "\n",
        "# Convert the training sample into tf.Data format (same as xtrain).\n",
        "training_dataset = tf.data.Dataset.from_tensor_slices(tuple(xtrain))\n",
        "training_dataset = training_dataset.cache()\n",
        "\n",
        "# Obtain Black-Scholes price, delta, and PnL\n",
        "call = European_Call()\n",
        "price_BS = call.get_BS_price(S = S_test[0], sigma = sigma, risk_free = risk_free, \\\n",
        "\t\t\t\t\t\t\t\t\tdividend = dividend, K = strike, exercise_date = maturity_date, \\\n",
        "\t\t\t\t\t\t\t\t\tcalculation_date = calculation_date, day_count = day_count, dt = dt)\n",
        "delta_BS = call.get_BS_delta(S = S_test[0], sigma = sigma, risk_free = risk_free, \\\n",
        "\t\t\t\t\t\t\t\t\tdividend = dividend, K = strike, exercise_date = maturity_date, \\\n",
        "\t\t\t\t\t\t\t\t\tcalculation_date = calculation_date, day_count = day_count, dt = dt)\n",
        "\n",
        "print(\"Finish preparing training and testing data!\")"
      ],
      "execution_count": 4,
      "outputs": [
        {
          "output_type": "stream",
          "text": [
            "Finish preparing training and testing data!\n"
          ],
          "name": "stdout"
        }
      ]
    },
    {
      "cell_type": "code",
      "metadata": {
        "id": "Og9G8QwMvk0V",
        "colab_type": "code",
        "cellView": "both",
        "colab": {}
      },
      "source": [
        "#@title <font color='Blue'>**Run the Deep Hedging Algorithm (Simple Network)!**</font>\n",
        "%autoreload 2\n",
        "\n",
        "draw_freq = 15\n",
        "strategy_type = \"simple\"\n",
        "epsilon = 0.008\n",
        "optimizer = Adam(learning_rate=lr)\n",
        "\n",
        "# PnL Heding using Black-Scholes delta\n",
        "PnL_BS =  call.get_BS_PnL(S=S_test[0], payoff=payoff_func(S_test[0][:,-1]), \\\n",
        "                  delta=delta_BS, dt=dt, risk_free = risk_free, \\\n",
        "\t\t\t\t\t\t\t\t\tfinal_period_cost=final_period_cost, epsilon=epsilon)\n",
        "\n",
        "# Setup and compile the model\n",
        "model_simple = Deep_Hedging_Model(N=N, d=d+2, m=m, risk_free=risk_free, \\\n",
        "                      dt = dt, strategy_type=strategy_type, epsilon = epsilon, \\\n",
        "\t\t\t\t\t\t\t\t\t\t\tuse_batch_norm = use_batch_norm, kernel_initializer = kernel_initializer, \\\n",
        "\t\t\t\t\t\t\t\t\t\t\tactivation_dense = activation_dense, activation_output = activation_output, \\\n",
        "\t\t\t\t\t\t\t\t\t\t\tfinal_period_cost = final_period_cost)\n",
        "# Accelerate the code using tf.function. \n",
        "model_simple_func = tf.function(model_simple)\n",
        "\n",
        "# Plot live graph!!\n",
        "\n",
        "# For interactive graph\n",
        "matplotlib.use('TkAGG') \n",
        "plt.ion()\n",
        "plt.close(\"all\")\n",
        "\n",
        "fig_PnL = plt.figure(dpi= 150, facecolor='w')\n",
        "fig_PnL.suptitle(\"Black-Scholes PnL vs Deep Hedging PnL \\n\", \\\n",
        "\t\t\tfontweight=\"bold\")\n",
        "ax = fig_PnL.add_subplot()\n",
        "ax.set_title(\"Simple Network Structure with epsilon = \" + str(epsilon), \\\n",
        "\t\t\tfontsize=8)\n",
        "ax.set_xlabel(\"PnL\")\n",
        "ax.set_ylabel(\"Frequency\")\n",
        "props = dict(boxstyle='round', facecolor='wheat', alpha=0.5)\n",
        "\n",
        "fig_PnL.show()\n",
        "\n",
        "# Certainty equivalent as defined in Buehler's paper. \n",
        "certainty_equiv = tf.Variable(0.0)\n",
        "\n",
        "plot_data = training_dataset.shuffle(Ktrain).batch(batch_size)\n",
        "for num_epoch in range(epochs):\n",
        "\tnum_batch = 0\n",
        "\tfor mini_batch in training_dataset.shuffle(Ktrain).batch(batch_size):\n",
        "\t\tnum_batch = num_batch + 1\n",
        "\t\t\n",
        "\t\twith tf.GradientTape() as tape:\n",
        "\t\t\twealth = model_simple_func(mini_batch)\n",
        "\t\t\tloss = Entropy(wealth, certainty_equiv, loss_param)\n",
        "\t\t\n",
        "\t\tif num_batch % draw_freq == 0:\n",
        "\t\t\tPnL_DH_Simple = model_simple_func(xtest).numpy().squeeze()\n",
        "\t\t\t\t\t\n",
        "\t\t\tax.cla()\n",
        "\t\t\ttextstr = '\\n'.join((\n",
        "\t\t\t\tr'$Epoch=%.1d$' % (num_epoch+1, ),\n",
        "\t\t\t\tr'$Batch=%.1d$' % (num_batch, ),\n",
        "\t\t\t\tr'$Loss=%.3f$' % (loss, )))\n",
        "\t\t\tax.text(0.05, 0.75, textstr, transform=ax.transAxes, fontsize=11,\n",
        "\t\t\t\t\t\t\tverticalalignment='top', bbox=props)\n",
        "\t\t\t\n",
        "\t\t\tax.hist((PnL_BS+price_BS[0,0],PnL_DH_Simple + price_BS[0,0]), \\\n",
        "\t\t\t\t\t\trange = (PnL_BS.min()+price_BS[0,0], PnL_BS.max()+price_BS[0,0]), \\\n",
        "\t\t\t\t\t\tbins=30, label=[\"Black-Scholes PnL\", \"Deep Hedging PnL\"])\n",
        "\t\t\tax.legend(loc=\"upper left\")\n",
        "\t\t\t\n",
        "\t\t\tfig_PnL.canvas.draw()\n",
        "\t\tgrads = tape.gradient(loss, model_simple.trainable_weights)\n",
        "\t\toptimizer.apply_gradients(zip(grads, model_simple.trainable_weights))\n",
        "\n",
        "plt.ioff()"
      ],
      "execution_count": 0,
      "outputs": []
    }
  ]
}