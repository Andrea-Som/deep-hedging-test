{
  "nbformat": 4,
  "nbformat_minor": 0,
  "metadata": {
    "colab": {
      "name": "deep_hedging_colab",
      "provenance": [],
      "collapsed_sections": [],
      "authorship_tag": "ABX9TyOl9fVD29aah33RamXsgZjI",
      "include_colab_link": true
    },
    "kernelspec": {
      "name": "python3",
      "display_name": "Python 3"
    },
    "widgets": {
      "application/vnd.jupyter.widget-state+json": {
        "594a47a4d1b74450b255aa5e0fb50c0c": {
          "model_module": "@jupyter-widgets/controls",
          "model_name": "HBoxModel",
          "state": {
            "_view_name": "HBoxView",
            "_dom_classes": [],
            "_model_name": "HBoxModel",
            "_view_module": "@jupyter-widgets/controls",
            "_model_module_version": "1.5.0",
            "_view_count": null,
            "_view_module_version": "1.5.0",
            "box_style": "",
            "layout": "IPY_MODEL_d7541ba1de304329bc0501c8ed05b368",
            "_model_module": "@jupyter-widgets/controls",
            "children": [
              "IPY_MODEL_9bb38742354b4046861472e1c69c9c9b",
              "IPY_MODEL_c4e6776ad86440518412cd0b901c7d3b"
            ]
          }
        },
        "d7541ba1de304329bc0501c8ed05b368": {
          "model_module": "@jupyter-widgets/base",
          "model_name": "LayoutModel",
          "state": {
            "_view_name": "LayoutView",
            "grid_template_rows": null,
            "right": null,
            "justify_content": null,
            "_view_module": "@jupyter-widgets/base",
            "overflow": null,
            "_model_module_version": "1.2.0",
            "_view_count": null,
            "flex_flow": null,
            "width": null,
            "min_width": null,
            "border": null,
            "align_items": null,
            "bottom": null,
            "_model_module": "@jupyter-widgets/base",
            "top": null,
            "grid_column": null,
            "overflow_y": null,
            "overflow_x": null,
            "grid_auto_flow": null,
            "grid_area": null,
            "grid_template_columns": null,
            "flex": null,
            "_model_name": "LayoutModel",
            "justify_items": null,
            "grid_row": null,
            "max_height": null,
            "align_content": null,
            "visibility": null,
            "align_self": null,
            "height": null,
            "min_height": null,
            "padding": null,
            "grid_auto_rows": null,
            "grid_gap": null,
            "max_width": null,
            "order": null,
            "_view_module_version": "1.2.0",
            "grid_template_areas": null,
            "object_position": null,
            "object_fit": null,
            "grid_auto_columns": null,
            "margin": null,
            "display": null,
            "left": null
          }
        },
        "9bb38742354b4046861472e1c69c9c9b": {
          "model_module": "@jupyter-widgets/controls",
          "model_name": "FloatProgressModel",
          "state": {
            "_view_name": "ProgressView",
            "style": "IPY_MODEL_d08632aff7474e43a60c66a880b302bd",
            "_dom_classes": [],
            "description": "100%",
            "_model_name": "FloatProgressModel",
            "bar_style": "success",
            "max": 100,
            "_view_module": "@jupyter-widgets/controls",
            "_model_module_version": "1.5.0",
            "value": 100,
            "_view_count": null,
            "_view_module_version": "1.5.0",
            "orientation": "horizontal",
            "min": 0,
            "description_tooltip": null,
            "_model_module": "@jupyter-widgets/controls",
            "layout": "IPY_MODEL_7c90cc9ea4a746fc9e5bc012b56fbca4"
          }
        },
        "c4e6776ad86440518412cd0b901c7d3b": {
          "model_module": "@jupyter-widgets/controls",
          "model_name": "HTMLModel",
          "state": {
            "_view_name": "HTMLView",
            "style": "IPY_MODEL_acfd2ffdcb7d48bdb55a2d71ddcaf56b",
            "_dom_classes": [],
            "description": "",
            "_model_name": "HTMLModel",
            "placeholder": "​",
            "_view_module": "@jupyter-widgets/controls",
            "_model_module_version": "1.5.0",
            "value": " 100/100 [31:25&lt;00:00, 18.85s/epoch, loss=3.71, val_loss=3.71, lr=0.000443]",
            "_view_count": null,
            "_view_module_version": "1.5.0",
            "description_tooltip": null,
            "_model_module": "@jupyter-widgets/controls",
            "layout": "IPY_MODEL_ea4f7cb1579a4668aa2232e976ed46f7"
          }
        },
        "d08632aff7474e43a60c66a880b302bd": {
          "model_module": "@jupyter-widgets/controls",
          "model_name": "ProgressStyleModel",
          "state": {
            "_view_name": "StyleView",
            "_model_name": "ProgressStyleModel",
            "description_width": "initial",
            "_view_module": "@jupyter-widgets/base",
            "_model_module_version": "1.5.0",
            "_view_count": null,
            "_view_module_version": "1.2.0",
            "bar_color": null,
            "_model_module": "@jupyter-widgets/controls"
          }
        },
        "7c90cc9ea4a746fc9e5bc012b56fbca4": {
          "model_module": "@jupyter-widgets/base",
          "model_name": "LayoutModel",
          "state": {
            "_view_name": "LayoutView",
            "grid_template_rows": null,
            "right": null,
            "justify_content": null,
            "_view_module": "@jupyter-widgets/base",
            "overflow": null,
            "_model_module_version": "1.2.0",
            "_view_count": null,
            "flex_flow": null,
            "width": null,
            "min_width": null,
            "border": null,
            "align_items": null,
            "bottom": null,
            "_model_module": "@jupyter-widgets/base",
            "top": null,
            "grid_column": null,
            "overflow_y": null,
            "overflow_x": null,
            "grid_auto_flow": null,
            "grid_area": null,
            "grid_template_columns": null,
            "flex": null,
            "_model_name": "LayoutModel",
            "justify_items": null,
            "grid_row": null,
            "max_height": null,
            "align_content": null,
            "visibility": null,
            "align_self": null,
            "height": null,
            "min_height": null,
            "padding": null,
            "grid_auto_rows": null,
            "grid_gap": null,
            "max_width": null,
            "order": null,
            "_view_module_version": "1.2.0",
            "grid_template_areas": null,
            "object_position": null,
            "object_fit": null,
            "grid_auto_columns": null,
            "margin": null,
            "display": null,
            "left": null
          }
        },
        "acfd2ffdcb7d48bdb55a2d71ddcaf56b": {
          "model_module": "@jupyter-widgets/controls",
          "model_name": "DescriptionStyleModel",
          "state": {
            "_view_name": "StyleView",
            "_model_name": "DescriptionStyleModel",
            "description_width": "",
            "_view_module": "@jupyter-widgets/base",
            "_model_module_version": "1.5.0",
            "_view_count": null,
            "_view_module_version": "1.2.0",
            "_model_module": "@jupyter-widgets/controls"
          }
        },
        "ea4f7cb1579a4668aa2232e976ed46f7": {
          "model_module": "@jupyter-widgets/base",
          "model_name": "LayoutModel",
          "state": {
            "_view_name": "LayoutView",
            "grid_template_rows": null,
            "right": null,
            "justify_content": null,
            "_view_module": "@jupyter-widgets/base",
            "overflow": null,
            "_model_module_version": "1.2.0",
            "_view_count": null,
            "flex_flow": null,
            "width": null,
            "min_width": null,
            "border": null,
            "align_items": null,
            "bottom": null,
            "_model_module": "@jupyter-widgets/base",
            "top": null,
            "grid_column": null,
            "overflow_y": null,
            "overflow_x": null,
            "grid_auto_flow": null,
            "grid_area": null,
            "grid_template_columns": null,
            "flex": null,
            "_model_name": "LayoutModel",
            "justify_items": null,
            "grid_row": null,
            "max_height": null,
            "align_content": null,
            "visibility": null,
            "align_self": null,
            "height": null,
            "min_height": null,
            "padding": null,
            "grid_auto_rows": null,
            "grid_gap": null,
            "max_width": null,
            "order": null,
            "_view_module_version": "1.2.0",
            "grid_template_areas": null,
            "object_position": null,
            "object_fit": null,
            "grid_auto_columns": null,
            "margin": null,
            "display": null,
            "left": null
          }
        },
        "d5f668569efa4317a5cdb0295f4068a5": {
          "model_module": "@jupyter-widgets/controls",
          "model_name": "HBoxModel",
          "state": {
            "_view_name": "HBoxView",
            "_dom_classes": [],
            "_model_name": "HBoxModel",
            "_view_module": "@jupyter-widgets/controls",
            "_model_module_version": "1.5.0",
            "_view_count": null,
            "_view_module_version": "1.5.0",
            "box_style": "",
            "layout": "IPY_MODEL_cdfa3ec10ad34cccb38502c8db2d11d6",
            "_model_module": "@jupyter-widgets/controls",
            "children": [
              "IPY_MODEL_032db876023f4dbdb169800e505e4f31",
              "IPY_MODEL_0d09f08744c34623818ee1cff1b3d47c"
            ]
          }
        },
        "cdfa3ec10ad34cccb38502c8db2d11d6": {
          "model_module": "@jupyter-widgets/base",
          "model_name": "LayoutModel",
          "state": {
            "_view_name": "LayoutView",
            "grid_template_rows": null,
            "right": null,
            "justify_content": null,
            "_view_module": "@jupyter-widgets/base",
            "overflow": null,
            "_model_module_version": "1.2.0",
            "_view_count": null,
            "flex_flow": null,
            "width": null,
            "min_width": null,
            "border": null,
            "align_items": null,
            "bottom": null,
            "_model_module": "@jupyter-widgets/base",
            "top": null,
            "grid_column": null,
            "overflow_y": null,
            "overflow_x": null,
            "grid_auto_flow": null,
            "grid_area": null,
            "grid_template_columns": null,
            "flex": null,
            "_model_name": "LayoutModel",
            "justify_items": null,
            "grid_row": null,
            "max_height": null,
            "align_content": null,
            "visibility": null,
            "align_self": null,
            "height": null,
            "min_height": null,
            "padding": null,
            "grid_auto_rows": null,
            "grid_gap": null,
            "max_width": null,
            "order": null,
            "_view_module_version": "1.2.0",
            "grid_template_areas": null,
            "object_position": null,
            "object_fit": null,
            "grid_auto_columns": null,
            "margin": null,
            "display": null,
            "left": null
          }
        },
        "032db876023f4dbdb169800e505e4f31": {
          "model_module": "@jupyter-widgets/controls",
          "model_name": "FloatProgressModel",
          "state": {
            "_view_name": "ProgressView",
            "style": "IPY_MODEL_7263d96a721b402eae4e9df13570c43f",
            "_dom_classes": [],
            "description": "100%",
            "_model_name": "FloatProgressModel",
            "bar_style": "info",
            "max": 100000,
            "_view_module": "@jupyter-widgets/controls",
            "_model_module_version": "1.5.0",
            "value": 100000,
            "_view_count": null,
            "_view_module_version": "1.5.0",
            "orientation": "horizontal",
            "min": 0,
            "description_tooltip": null,
            "_model_module": "@jupyter-widgets/controls",
            "layout": "IPY_MODEL_c02a62aef26441b68b97f48ff7e103c2"
          }
        },
        "0d09f08744c34623818ee1cff1b3d47c": {
          "model_module": "@jupyter-widgets/controls",
          "model_name": "HTMLModel",
          "state": {
            "_view_name": "HTMLView",
            "style": "IPY_MODEL_32b2d8f88cc542c1b62b107c2276e149",
            "_dom_classes": [],
            "description": "",
            "_model_name": "HTMLModel",
            "placeholder": "​",
            "_view_module": "@jupyter-widgets/controls",
            "_model_module_version": "1.5.0",
            "value": " 390.625/390.625 [00:17&lt;00:00, 24.42batch/s, loss=3.63]",
            "_view_count": null,
            "_view_module_version": "1.5.0",
            "description_tooltip": null,
            "_model_module": "@jupyter-widgets/controls",
            "layout": "IPY_MODEL_78c47c051ab144c1b55b8af44cd1effa"
          }
        },
        "7263d96a721b402eae4e9df13570c43f": {
          "model_module": "@jupyter-widgets/controls",
          "model_name": "ProgressStyleModel",
          "state": {
            "_view_name": "StyleView",
            "_model_name": "ProgressStyleModel",
            "description_width": "initial",
            "_view_module": "@jupyter-widgets/base",
            "_model_module_version": "1.5.0",
            "_view_count": null,
            "_view_module_version": "1.2.0",
            "bar_color": null,
            "_model_module": "@jupyter-widgets/controls"
          }
        },
        "c02a62aef26441b68b97f48ff7e103c2": {
          "model_module": "@jupyter-widgets/base",
          "model_name": "LayoutModel",
          "state": {
            "_view_name": "LayoutView",
            "grid_template_rows": null,
            "right": null,
            "justify_content": null,
            "_view_module": "@jupyter-widgets/base",
            "overflow": null,
            "_model_module_version": "1.2.0",
            "_view_count": null,
            "flex_flow": null,
            "width": null,
            "min_width": null,
            "border": null,
            "align_items": null,
            "bottom": null,
            "_model_module": "@jupyter-widgets/base",
            "top": null,
            "grid_column": null,
            "overflow_y": null,
            "overflow_x": null,
            "grid_auto_flow": null,
            "grid_area": null,
            "grid_template_columns": null,
            "flex": null,
            "_model_name": "LayoutModel",
            "justify_items": null,
            "grid_row": null,
            "max_height": null,
            "align_content": null,
            "visibility": null,
            "align_self": null,
            "height": null,
            "min_height": null,
            "padding": null,
            "grid_auto_rows": null,
            "grid_gap": null,
            "max_width": null,
            "order": null,
            "_view_module_version": "1.2.0",
            "grid_template_areas": null,
            "object_position": null,
            "object_fit": null,
            "grid_auto_columns": null,
            "margin": null,
            "display": null,
            "left": null
          }
        },
        "32b2d8f88cc542c1b62b107c2276e149": {
          "model_module": "@jupyter-widgets/controls",
          "model_name": "DescriptionStyleModel",
          "state": {
            "_view_name": "StyleView",
            "_model_name": "DescriptionStyleModel",
            "description_width": "",
            "_view_module": "@jupyter-widgets/base",
            "_model_module_version": "1.5.0",
            "_view_count": null,
            "_view_module_version": "1.2.0",
            "_model_module": "@jupyter-widgets/controls"
          }
        },
        "78c47c051ab144c1b55b8af44cd1effa": {
          "model_module": "@jupyter-widgets/base",
          "model_name": "LayoutModel",
          "state": {
            "_view_name": "LayoutView",
            "grid_template_rows": null,
            "right": null,
            "justify_content": null,
            "_view_module": "@jupyter-widgets/base",
            "overflow": null,
            "_model_module_version": "1.2.0",
            "_view_count": null,
            "flex_flow": null,
            "width": null,
            "min_width": null,
            "border": null,
            "align_items": null,
            "bottom": null,
            "_model_module": "@jupyter-widgets/base",
            "top": null,
            "grid_column": null,
            "overflow_y": null,
            "overflow_x": null,
            "grid_auto_flow": null,
            "grid_area": null,
            "grid_template_columns": null,
            "flex": null,
            "_model_name": "LayoutModel",
            "justify_items": null,
            "grid_row": null,
            "max_height": null,
            "align_content": null,
            "visibility": null,
            "align_self": null,
            "height": null,
            "min_height": null,
            "padding": null,
            "grid_auto_rows": null,
            "grid_gap": null,
            "max_width": null,
            "order": null,
            "_view_module_version": "1.2.0",
            "grid_template_areas": null,
            "object_position": null,
            "object_fit": null,
            "grid_auto_columns": null,
            "margin": null,
            "display": null,
            "left": null
          }
        },
        "b8fbe9c1db42451caa0c119763fbd0e0": {
          "model_module": "@jupyter-widgets/controls",
          "model_name": "HBoxModel",
          "state": {
            "_view_name": "HBoxView",
            "_dom_classes": [],
            "_model_name": "HBoxModel",
            "_view_module": "@jupyter-widgets/controls",
            "_model_module_version": "1.5.0",
            "_view_count": null,
            "_view_module_version": "1.5.0",
            "box_style": "",
            "layout": "IPY_MODEL_985ee2db223a4b6c84aaa93fc55e47bf",
            "_model_module": "@jupyter-widgets/controls",
            "children": [
              "IPY_MODEL_ab0ee458595942928ffd00fa9ea6e948",
              "IPY_MODEL_164d9e826c2247debf6620050262c1fe"
            ]
          }
        },
        "985ee2db223a4b6c84aaa93fc55e47bf": {
          "model_module": "@jupyter-widgets/base",
          "model_name": "LayoutModel",
          "state": {
            "_view_name": "LayoutView",
            "grid_template_rows": null,
            "right": null,
            "justify_content": null,
            "_view_module": "@jupyter-widgets/base",
            "overflow": null,
            "_model_module_version": "1.2.0",
            "_view_count": null,
            "flex_flow": null,
            "width": null,
            "min_width": null,
            "border": null,
            "align_items": null,
            "bottom": null,
            "_model_module": "@jupyter-widgets/base",
            "top": null,
            "grid_column": null,
            "overflow_y": null,
            "overflow_x": null,
            "grid_auto_flow": null,
            "grid_area": null,
            "grid_template_columns": null,
            "flex": null,
            "_model_name": "LayoutModel",
            "justify_items": null,
            "grid_row": null,
            "max_height": null,
            "align_content": null,
            "visibility": null,
            "align_self": null,
            "height": null,
            "min_height": null,
            "padding": null,
            "grid_auto_rows": null,
            "grid_gap": null,
            "max_width": null,
            "order": null,
            "_view_module_version": "1.2.0",
            "grid_template_areas": null,
            "object_position": null,
            "object_fit": null,
            "grid_auto_columns": null,
            "margin": null,
            "display": null,
            "left": null
          }
        },
        "ab0ee458595942928ffd00fa9ea6e948": {
          "model_module": "@jupyter-widgets/controls",
          "model_name": "FloatProgressModel",
          "state": {
            "_view_name": "ProgressView",
            "style": "IPY_MODEL_62bf564d46354af2ae567604c13e3a00",
            "_dom_classes": [],
            "description": "100%",
            "_model_name": "FloatProgressModel",
            "bar_style": "success",
            "max": 100,
            "_view_module": "@jupyter-widgets/controls",
            "_model_module_version": "1.5.0",
            "value": 100,
            "_view_count": null,
            "_view_module_version": "1.5.0",
            "orientation": "horizontal",
            "min": 0,
            "description_tooltip": null,
            "_model_module": "@jupyter-widgets/controls",
            "layout": "IPY_MODEL_9e6278d16ce24fee9b7d3ba531168506"
          }
        },
        "164d9e826c2247debf6620050262c1fe": {
          "model_module": "@jupyter-widgets/controls",
          "model_name": "HTMLModel",
          "state": {
            "_view_name": "HTMLView",
            "style": "IPY_MODEL_2e279e76213b43bd819da10c5d47aa75",
            "_dom_classes": [],
            "description": "",
            "_model_name": "HTMLModel",
            "placeholder": "​",
            "_view_module": "@jupyter-widgets/controls",
            "_model_module_version": "1.5.0",
            "value": " 100/100 [32:44&lt;00:00, 19.65s/epoch, loss=3.56, val_loss=3.58, lr=0.000675]",
            "_view_count": null,
            "_view_module_version": "1.5.0",
            "description_tooltip": null,
            "_model_module": "@jupyter-widgets/controls",
            "layout": "IPY_MODEL_58534ea6c59d456c9555eeb1664606f2"
          }
        },
        "62bf564d46354af2ae567604c13e3a00": {
          "model_module": "@jupyter-widgets/controls",
          "model_name": "ProgressStyleModel",
          "state": {
            "_view_name": "StyleView",
            "_model_name": "ProgressStyleModel",
            "description_width": "initial",
            "_view_module": "@jupyter-widgets/base",
            "_model_module_version": "1.5.0",
            "_view_count": null,
            "_view_module_version": "1.2.0",
            "bar_color": null,
            "_model_module": "@jupyter-widgets/controls"
          }
        },
        "9e6278d16ce24fee9b7d3ba531168506": {
          "model_module": "@jupyter-widgets/base",
          "model_name": "LayoutModel",
          "state": {
            "_view_name": "LayoutView",
            "grid_template_rows": null,
            "right": null,
            "justify_content": null,
            "_view_module": "@jupyter-widgets/base",
            "overflow": null,
            "_model_module_version": "1.2.0",
            "_view_count": null,
            "flex_flow": null,
            "width": null,
            "min_width": null,
            "border": null,
            "align_items": null,
            "bottom": null,
            "_model_module": "@jupyter-widgets/base",
            "top": null,
            "grid_column": null,
            "overflow_y": null,
            "overflow_x": null,
            "grid_auto_flow": null,
            "grid_area": null,
            "grid_template_columns": null,
            "flex": null,
            "_model_name": "LayoutModel",
            "justify_items": null,
            "grid_row": null,
            "max_height": null,
            "align_content": null,
            "visibility": null,
            "align_self": null,
            "height": null,
            "min_height": null,
            "padding": null,
            "grid_auto_rows": null,
            "grid_gap": null,
            "max_width": null,
            "order": null,
            "_view_module_version": "1.2.0",
            "grid_template_areas": null,
            "object_position": null,
            "object_fit": null,
            "grid_auto_columns": null,
            "margin": null,
            "display": null,
            "left": null
          }
        },
        "2e279e76213b43bd819da10c5d47aa75": {
          "model_module": "@jupyter-widgets/controls",
          "model_name": "DescriptionStyleModel",
          "state": {
            "_view_name": "StyleView",
            "_model_name": "DescriptionStyleModel",
            "description_width": "",
            "_view_module": "@jupyter-widgets/base",
            "_model_module_version": "1.5.0",
            "_view_count": null,
            "_view_module_version": "1.2.0",
            "_model_module": "@jupyter-widgets/controls"
          }
        },
        "58534ea6c59d456c9555eeb1664606f2": {
          "model_module": "@jupyter-widgets/base",
          "model_name": "LayoutModel",
          "state": {
            "_view_name": "LayoutView",
            "grid_template_rows": null,
            "right": null,
            "justify_content": null,
            "_view_module": "@jupyter-widgets/base",
            "overflow": null,
            "_model_module_version": "1.2.0",
            "_view_count": null,
            "flex_flow": null,
            "width": null,
            "min_width": null,
            "border": null,
            "align_items": null,
            "bottom": null,
            "_model_module": "@jupyter-widgets/base",
            "top": null,
            "grid_column": null,
            "overflow_y": null,
            "overflow_x": null,
            "grid_auto_flow": null,
            "grid_area": null,
            "grid_template_columns": null,
            "flex": null,
            "_model_name": "LayoutModel",
            "justify_items": null,
            "grid_row": null,
            "max_height": null,
            "align_content": null,
            "visibility": null,
            "align_self": null,
            "height": null,
            "min_height": null,
            "padding": null,
            "grid_auto_rows": null,
            "grid_gap": null,
            "max_width": null,
            "order": null,
            "_view_module_version": "1.2.0",
            "grid_template_areas": null,
            "object_position": null,
            "object_fit": null,
            "grid_auto_columns": null,
            "margin": null,
            "display": null,
            "left": null
          }
        },
        "19d941bbd8bf42bc925b72bdc949279a": {
          "model_module": "@jupyter-widgets/controls",
          "model_name": "HBoxModel",
          "state": {
            "_view_name": "HBoxView",
            "_dom_classes": [],
            "_model_name": "HBoxModel",
            "_view_module": "@jupyter-widgets/controls",
            "_model_module_version": "1.5.0",
            "_view_count": null,
            "_view_module_version": "1.5.0",
            "box_style": "",
            "layout": "IPY_MODEL_dd529a2604c54376afa37c848929b022",
            "_model_module": "@jupyter-widgets/controls",
            "children": [
              "IPY_MODEL_44dcf644297c43fe95ce87bd6a59eb1c",
              "IPY_MODEL_48d89998674a4356b0429fdf6bb188cb"
            ]
          }
        },
        "dd529a2604c54376afa37c848929b022": {
          "model_module": "@jupyter-widgets/base",
          "model_name": "LayoutModel",
          "state": {
            "_view_name": "LayoutView",
            "grid_template_rows": null,
            "right": null,
            "justify_content": null,
            "_view_module": "@jupyter-widgets/base",
            "overflow": null,
            "_model_module_version": "1.2.0",
            "_view_count": null,
            "flex_flow": null,
            "width": null,
            "min_width": null,
            "border": null,
            "align_items": null,
            "bottom": null,
            "_model_module": "@jupyter-widgets/base",
            "top": null,
            "grid_column": null,
            "overflow_y": null,
            "overflow_x": null,
            "grid_auto_flow": null,
            "grid_area": null,
            "grid_template_columns": null,
            "flex": null,
            "_model_name": "LayoutModel",
            "justify_items": null,
            "grid_row": null,
            "max_height": null,
            "align_content": null,
            "visibility": null,
            "align_self": null,
            "height": null,
            "min_height": null,
            "padding": null,
            "grid_auto_rows": null,
            "grid_gap": null,
            "max_width": null,
            "order": null,
            "_view_module_version": "1.2.0",
            "grid_template_areas": null,
            "object_position": null,
            "object_fit": null,
            "grid_auto_columns": null,
            "margin": null,
            "display": null,
            "left": null
          }
        },
        "44dcf644297c43fe95ce87bd6a59eb1c": {
          "model_module": "@jupyter-widgets/controls",
          "model_name": "FloatProgressModel",
          "state": {
            "_view_name": "ProgressView",
            "style": "IPY_MODEL_d150b42a874e4ab5aa4626b42cd2735b",
            "_dom_classes": [],
            "description": "100%",
            "_model_name": "FloatProgressModel",
            "bar_style": "info",
            "max": 100000,
            "_view_module": "@jupyter-widgets/controls",
            "_model_module_version": "1.5.0",
            "value": 100000,
            "_view_count": null,
            "_view_module_version": "1.5.0",
            "orientation": "horizontal",
            "min": 0,
            "description_tooltip": null,
            "_model_module": "@jupyter-widgets/controls",
            "layout": "IPY_MODEL_77d8749fea8d447b8dd0513e208f4d28"
          }
        },
        "48d89998674a4356b0429fdf6bb188cb": {
          "model_module": "@jupyter-widgets/controls",
          "model_name": "HTMLModel",
          "state": {
            "_view_name": "HTMLView",
            "style": "IPY_MODEL_b3d4372f7c6f428cb2443a92f4f43af4",
            "_dom_classes": [],
            "description": "",
            "_model_name": "HTMLModel",
            "placeholder": "​",
            "_view_module": "@jupyter-widgets/controls",
            "_model_module_version": "1.5.0",
            "value": " 390.625/390.625 [00:19&lt;00:00, 21.84batch/s, loss=3.51]",
            "_view_count": null,
            "_view_module_version": "1.5.0",
            "description_tooltip": null,
            "_model_module": "@jupyter-widgets/controls",
            "layout": "IPY_MODEL_bd6907b6dd904aef93d5a0a3d932bd79"
          }
        },
        "d150b42a874e4ab5aa4626b42cd2735b": {
          "model_module": "@jupyter-widgets/controls",
          "model_name": "ProgressStyleModel",
          "state": {
            "_view_name": "StyleView",
            "_model_name": "ProgressStyleModel",
            "description_width": "initial",
            "_view_module": "@jupyter-widgets/base",
            "_model_module_version": "1.5.0",
            "_view_count": null,
            "_view_module_version": "1.2.0",
            "bar_color": null,
            "_model_module": "@jupyter-widgets/controls"
          }
        },
        "77d8749fea8d447b8dd0513e208f4d28": {
          "model_module": "@jupyter-widgets/base",
          "model_name": "LayoutModel",
          "state": {
            "_view_name": "LayoutView",
            "grid_template_rows": null,
            "right": null,
            "justify_content": null,
            "_view_module": "@jupyter-widgets/base",
            "overflow": null,
            "_model_module_version": "1.2.0",
            "_view_count": null,
            "flex_flow": null,
            "width": null,
            "min_width": null,
            "border": null,
            "align_items": null,
            "bottom": null,
            "_model_module": "@jupyter-widgets/base",
            "top": null,
            "grid_column": null,
            "overflow_y": null,
            "overflow_x": null,
            "grid_auto_flow": null,
            "grid_area": null,
            "grid_template_columns": null,
            "flex": null,
            "_model_name": "LayoutModel",
            "justify_items": null,
            "grid_row": null,
            "max_height": null,
            "align_content": null,
            "visibility": null,
            "align_self": null,
            "height": null,
            "min_height": null,
            "padding": null,
            "grid_auto_rows": null,
            "grid_gap": null,
            "max_width": null,
            "order": null,
            "_view_module_version": "1.2.0",
            "grid_template_areas": null,
            "object_position": null,
            "object_fit": null,
            "grid_auto_columns": null,
            "margin": null,
            "display": null,
            "left": null
          }
        },
        "b3d4372f7c6f428cb2443a92f4f43af4": {
          "model_module": "@jupyter-widgets/controls",
          "model_name": "DescriptionStyleModel",
          "state": {
            "_view_name": "StyleView",
            "_model_name": "DescriptionStyleModel",
            "description_width": "",
            "_view_module": "@jupyter-widgets/base",
            "_model_module_version": "1.5.0",
            "_view_count": null,
            "_view_module_version": "1.2.0",
            "_model_module": "@jupyter-widgets/controls"
          }
        },
        "bd6907b6dd904aef93d5a0a3d932bd79": {
          "model_module": "@jupyter-widgets/base",
          "model_name": "LayoutModel",
          "state": {
            "_view_name": "LayoutView",
            "grid_template_rows": null,
            "right": null,
            "justify_content": null,
            "_view_module": "@jupyter-widgets/base",
            "overflow": null,
            "_model_module_version": "1.2.0",
            "_view_count": null,
            "flex_flow": null,
            "width": null,
            "min_width": null,
            "border": null,
            "align_items": null,
            "bottom": null,
            "_model_module": "@jupyter-widgets/base",
            "top": null,
            "grid_column": null,
            "overflow_y": null,
            "overflow_x": null,
            "grid_auto_flow": null,
            "grid_area": null,
            "grid_template_columns": null,
            "flex": null,
            "_model_name": "LayoutModel",
            "justify_items": null,
            "grid_row": null,
            "max_height": null,
            "align_content": null,
            "visibility": null,
            "align_self": null,
            "height": null,
            "min_height": null,
            "padding": null,
            "grid_auto_rows": null,
            "grid_gap": null,
            "max_width": null,
            "order": null,
            "_view_module_version": "1.2.0",
            "grid_template_areas": null,
            "object_position": null,
            "object_fit": null,
            "grid_auto_columns": null,
            "margin": null,
            "display": null,
            "left": null
          }
        }
      }
    }
  },
  "cells": [
    {
      "cell_type": "markdown",
      "metadata": {
        "id": "view-in-github",
        "colab_type": "text"
      },
      "source": [
        "<a href=\"https://colab.research.google.com/github/YuMan-Tam/deep-hedging-demo/blob/master/deep_hedging_colab.ipynb\" target=\"_parent\"><img src=\"https://colab.research.google.com/assets/colab-badge.svg\" alt=\"Open In Colab\"/></a>"
      ]
    },
    {
      "cell_type": "code",
      "metadata": {
        "id": "nMnI5JIocCaD",
        "colab_type": "code",
        "cellView": "form",
        "outputId": "33da67ba-9a2b-45ed-bcc6-08c0f33f9c46",
        "colab": {
          "base_uri": "https://localhost:8080/",
          "height": 51
        }
      },
      "source": [
        "#@title <font color='Blue'>**Overheads**</font>\n",
        "\n",
        "# Author: Yu-Man Tam\n",
        "# Last updated: 1/23/2020\n",
        "\n",
        "!apt-get update --fix-missing\n",
        "!apt-get -qq install -y libquantlib0-dev\n",
        "!pip -q install QuantLib pathos tqdm==4.41.1\n",
        "!mkdir ./data\n",
        "\n",
        "%tensorflow_version 2.x\n",
        "\n",
        "from tqdm import trange\n",
        "from tqdm.keras import TqdmCallback\n",
        "import pathos.multiprocessing as mp\n",
        "from IPython.display import Math, HTML, clear_output\n",
        "\n",
        "import numpy as np\n",
        "import QuantLib as ql\n",
        "import tensorflow as tf\n",
        "from itertools import repeat\n",
        "from tensorflow.keras.callbacks import EarlyStopping, ModelCheckpoint, \\\n",
        "                                            ReduceLROnPlateau\n",
        "from tensorflow.compat.v1.keras.optimizers import Adam\n",
        "from tensorflow.keras.models import Model\n",
        "\n",
        "# Disable warnings for presentation purpose\n",
        "tf.compat.v1.logging.set_verbosity(tf.compat.v1.logging.ERROR)\n",
        "\n",
        "import matplotlib.pyplot as plt\n",
        "\n",
        "# Import custom modules from github\n",
        "!rm -rf deep-hedging-demo\n",
        "!git clone https://github.com/YuMan-Tam/deep-hedging-demo\n",
        "\n",
        "import sys, os\n",
        "sys.path.insert(0, os.getcwd() + \"/deep-hedging-demo/lib\")\n",
        "\n",
        "from Stochastic_Processes import BlackScholesProcess\n",
        "from Utilities import train_test_split, reshape_1D\n",
        "from Deep_Hedging import Deep_Hedging\n",
        "from Validation import Validation\n",
        "\n",
        "clear_output()\n",
        "print(\"\\nFinish installing and importing all necessary libraries!\")"
      ],
      "execution_count": 3,
      "outputs": [
        {
          "output_type": "stream",
          "text": [
            "\n",
            "Finish installing and importing all necessary libraries!\n"
          ],
          "name": "stdout"
        }
      ]
    },
    {
      "cell_type": "markdown",
      "metadata": {
        "id": "GptSMgcl525K",
        "colab_type": "text"
      },
      "source": [
        "**Import all neccessary python, quantitative finance, and machine learning software libraries.**"
      ]
    },
    {
      "cell_type": "code",
      "metadata": {
        "id": "Uusmc7_Uc4wN",
        "colab_type": "code",
        "cellView": "form",
        "colab": {}
      },
      "source": [
        "#@title <font color='Blue'>**User Inputs**</font>\n",
        "\n",
        "# Geometric Brownian Motion.\n",
        "N = 30 # Number of time steps (in days)\n",
        "\n",
        "S0 = 100.0 # Stock price at time = 0\n",
        "sigma = 0.2 # Implied volatility\n",
        "risk_free = 0.0 # Risk-free rate\n",
        "dividend = 0.0 # Continuous dividend yield\n",
        "\n",
        "Ktrain = 1*(10**5) # Size of training sample.\n",
        "Ktest_ratio = 0.2 # Fraction of training sample as testing sample.\n",
        "\n",
        "# European call option (short).\n",
        "strike = S0\n",
        "payoff_func = lambda x: -np.maximum(x - strike, 0.0)\n",
        "calculation_date = ql.Date.todaysDate()\n",
        "maturity_date = ql.Date.todaysDate() + N\n",
        "\n",
        "# Proportional transaction cost.\n",
        "epsilon = 0.005\n",
        "\n",
        "# Neural network (NN) structure \n",
        "m = 15 # Number of neurons in each hidden layer.\n",
        "d = 2 # Number of hidden layers (Note including input nor output layer)                                         \n",
        "                \n",
        "# Loss function\n",
        "# loss_type = \"CVaR\" (Expected Shortfall) -> loss_param = alpha \n",
        "# loss_type = \"Entropy\" -> loss_param = lambda\n",
        "loss_type = \"CVaR\"\n",
        "loss_param = 0.5\n",
        "\n",
        "# Other NN parameters\n",
        "lr = 5e-3 # Learning rate\n",
        "batch_size=256 # Batch size\n",
        "epochs=100 # Number of epochs"
      ],
      "execution_count": 0,
      "outputs": []
    },
    {
      "cell_type": "markdown",
      "metadata": {
        "id": "PR8SZiGi7Ygm",
        "colab_type": "text"
      },
      "source": [
        "**Provide input parameters for Monte Carlo simulation, call option, transaction cost, loss function, and deep hedging algorithm.**"
      ]
    },
    {
      "cell_type": "code",
      "metadata": {
        "id": "vuLfzImssxVz",
        "colab_type": "code",
        "cellView": "form",
        "outputId": "73086e77-4f84-4055-f466-4733ed7e3805",
        "colab": {
          "base_uri": "https://localhost:8080/",
          "height": 204
        }
      },
      "source": [
        "#@title <font color='Blue'>**Monte Carlo Simulation - Generate Random Paths of Stock Prices**</font>\n",
        "stochastic_process = BlackScholesProcess(s0 = S0, sigma = sigma, \\\n",
        "                      risk_free = risk_free, dividend = dividend)\n",
        "maturity = N/365\n",
        "\n",
        "try:\n",
        "  print(\"\\nCheck if there is usable data from previous simulation...\")\n",
        "  S = np.load(\"./data/stock_\" + str(int(np.log10(Ktrain))) + \".npy\")\n",
        "  print(\"Successfully loaded data!!!\\n\")\n",
        "except:\n",
        "  S = stochastic_process.gen_path(maturity, N, int(Ktrain/(1-Ktest_ratio)))\n",
        "  np.save(\"./data/stock_\" + str(int(np.log10(Ktrain))) + \".npy\", S)\n",
        "\n",
        "print(\"s0 = \" + str(S0))\n",
        "print(\"sigma = \" + str(sigma))\n",
        "print(\"risk_free = \" + str(risk_free) + \"\\n\")\n",
        "print(\"Number of time steps = \" + str(N))\n",
        "print(\"Length of each time step = \" + \"1/365\\n\")\n",
        "print(\"Simulation Done!\")"
      ],
      "execution_count": 5,
      "outputs": [
        {
          "output_type": "stream",
          "text": [
            "  1%|          | 746/125000 [00:00<00:16, 7454.53it/s]"
          ],
          "name": "stderr"
        },
        {
          "output_type": "stream",
          "text": [
            "\n",
            "Check if there is usable data from previous simulation...\n"
          ],
          "name": "stdout"
        },
        {
          "output_type": "stream",
          "text": [
            "100%|██████████| 125000/125000 [00:19<00:00, 6403.67it/s]"
          ],
          "name": "stderr"
        },
        {
          "output_type": "stream",
          "text": [
            "s0 = 100.0\n",
            "sigma = 0.2\n",
            "risk_free = 0.0\n",
            "\n",
            "Number of time steps = 30\n",
            "Length of each time step = 1/365\n",
            "\n",
            "Simulation Done!\n"
          ],
          "name": "stdout"
        },
        {
          "output_type": "stream",
          "text": [
            "\n"
          ],
          "name": "stderr"
        }
      ]
    },
    {
      "cell_type": "code",
      "metadata": {
        "id": "b3PXslQawKv1",
        "colab_type": "code",
        "cellView": "form",
        "outputId": "a90ed993-00ca-468c-9c71-e939e06ab78d",
        "colab": {
          "base_uri": "https://localhost:8080/",
          "height": 34
        }
      },
      "source": [
        "#@title <font color='Blue'>**Prepare data to be fed into the deep hedging algorithm.**</font>\n",
        "\n",
        "payoff_T = payoff_func(S[:,-1]) # Payoff of the call option\n",
        "\n",
        "trade_set =  np.stack((S),axis=1) # Trading set\n",
        "I =  np.stack((S),axis=1) # Information set\n",
        "\n",
        "# Structure of xtrain:\n",
        "#   1) Certainty equivalent: w (dim = 1)\n",
        "#   2) Trade set: [S]\n",
        "#   2) Information set: [S] \n",
        "#   3) payoff (dim = 1)\n",
        "xtrain = [np.zeros(len(S))]\n",
        "for i in range(N+1):\n",
        "    xtrain += [trade_set[i,:]]\n",
        "    if i != N:\n",
        "        xtrain += [I[i,:]]\n",
        "xtrain += [payoff_T]\n",
        "\n",
        "# Split the entire sample into a training sample and a testing sample.\n",
        "[xtrain, xtest] = train_test_split(xtrain, test_size=Ktest_ratio)\n",
        "[S_train, S_test] = train_test_split([S], test_size=Ktest_ratio)\n",
        "[option_payoff_train, option_payoff_test] = \\\n",
        "    train_test_split([payoff_T], test_size=Ktest_ratio)\n",
        "\n",
        "print(\"Finish preparing data!\")"
      ],
      "execution_count": 6,
      "outputs": [
        {
          "output_type": "stream",
          "text": [
            "Finish preparing data!\n"
          ],
          "name": "stdout"
        }
      ]
    },
    {
      "cell_type": "code",
      "metadata": {
        "id": "Og9G8QwMvk0V",
        "colab_type": "code",
        "cellView": "form",
        "outputId": "a748c00e-5b07-4eae-95af-22937738bd63",
        "colab": {
          "base_uri": "https://localhost:8080/",
          "height": 83,
          "referenced_widgets": [
            "594a47a4d1b74450b255aa5e0fb50c0c",
            "d7541ba1de304329bc0501c8ed05b368",
            "9bb38742354b4046861472e1c69c9c9b",
            "c4e6776ad86440518412cd0b901c7d3b",
            "d08632aff7474e43a60c66a880b302bd",
            "7c90cc9ea4a746fc9e5bc012b56fbca4",
            "acfd2ffdcb7d48bdb55a2d71ddcaf56b",
            "ea4f7cb1579a4668aa2232e976ed46f7",
            "d5f668569efa4317a5cdb0295f4068a5",
            "cdfa3ec10ad34cccb38502c8db2d11d6",
            "032db876023f4dbdb169800e505e4f31",
            "0d09f08744c34623818ee1cff1b3d47c",
            "7263d96a721b402eae4e9df13570c43f",
            "c02a62aef26441b68b97f48ff7e103c2",
            "32b2d8f88cc542c1b62b107c2276e149",
            "78c47c051ab144c1b55b8af44cd1effa"
          ]
        }
      },
      "source": [
        "#@title <font color='Blue'>**Run the Deep Hedging Algorithm (Simple Network)!**</font>\n",
        "strategy_type = \"simple\"\n",
        "optimizer = Adam(learning_rate=lr)\n",
        "\n",
        "# Setup and compile the model\n",
        "model_simple = Deep_Hedging(N=N, d=d+2, m=m, risk_free=risk_free, \\\n",
        "                      maturity=maturity).model( \\\n",
        "                      strategy_type=strategy_type, epsilon = epsilon, \\\n",
        "                      loss_type=loss_type, loss_param = loss_param)\n",
        "model_simple.compile(optimizer=optimizer)\n",
        "\n",
        "# Stopping criteria\n",
        "model_data_dir =\"./data/\"\n",
        "best_model_file = model_data_dir + \\\n",
        "          \"model_\" + strategy_type + \"_\"  + str(epsilon) + \".h5\"\n",
        "\n",
        "early_stopping = EarlyStopping(monitor=\"loss\", \\\n",
        "          patience=20, min_delta=1e-4, restore_best_weights=True)\n",
        "reduce_lr = ReduceLROnPlateau(monitor=\"loss\", \\\n",
        "          factor=0.9, patience=2, min_delta=1e-3, verbose=0)\n",
        "model_checkpoint = ModelCheckpoint(best_model_file, \\\n",
        "          monitor=\"loss\", save_best_only=True, \\\n",
        "          save_weights_only=False, verbose=0)\n",
        "\n",
        "callbacks = [early_stopping, reduce_lr, model_checkpoint, TqdmCallback()]\n",
        "\n",
        "# Try to preload model weights if possible.\n",
        "try:\n",
        "  model_simple.load_weights(best_model_file)\n",
        "except:\n",
        "  pass\n",
        "\n",
        "# Fit the model.\n",
        "model_fit = model_simple.fit(x=xtrain, batch_size=batch_size, epochs=epochs, \\\n",
        "            validation_data=(xtest, np.empty(0)), callbacks=callbacks, \\\n",
        "            verbose=0)\n",
        "model_simple.save(best_model_file)\n",
        "print(\"Finished running deep hedging algorithm! (Simple Network)\")"
      ],
      "execution_count": 7,
      "outputs": [
        {
          "output_type": "display_data",
          "data": {
            "application/vnd.jupyter.widget-view+json": {
              "model_id": "594a47a4d1b74450b255aa5e0fb50c0c",
              "version_minor": 0,
              "version_major": 2
            },
            "text/plain": [
              "HBox(children=(FloatProgress(value=1.0, bar_style='info', max=1.0), HTML(value='')))"
            ]
          },
          "metadata": {
            "tags": []
          }
        },
        {
          "output_type": "display_data",
          "data": {
            "application/vnd.jupyter.widget-view+json": {
              "model_id": "d5f668569efa4317a5cdb0295f4068a5",
              "version_minor": 0,
              "version_major": 2
            },
            "text/plain": [
              "HBox(children=(FloatProgress(value=1.0, bar_style='info', max=1.0), HTML(value='')))"
            ]
          },
          "metadata": {
            "tags": []
          }
        },
        {
          "output_type": "stream",
          "text": [
            "\n",
            "Finished running deep hedging algorithm! (Simple Network)\n"
          ],
          "name": "stdout"
        }
      ]
    },
    {
      "cell_type": "code",
      "metadata": {
        "id": "L6ykKzCDw8q7",
        "colab_type": "code",
        "cellView": "form",
        "outputId": "dc00598f-0854-42c9-fb1f-443c45e24f53",
        "colab": {
          "base_uri": "https://localhost:8080/",
          "height": 83,
          "referenced_widgets": [
            "b8fbe9c1db42451caa0c119763fbd0e0",
            "985ee2db223a4b6c84aaa93fc55e47bf",
            "ab0ee458595942928ffd00fa9ea6e948",
            "164d9e826c2247debf6620050262c1fe",
            "62bf564d46354af2ae567604c13e3a00",
            "9e6278d16ce24fee9b7d3ba531168506",
            "2e279e76213b43bd819da10c5d47aa75",
            "58534ea6c59d456c9555eeb1664606f2",
            "19d941bbd8bf42bc925b72bdc949279a",
            "dd529a2604c54376afa37c848929b022",
            "44dcf644297c43fe95ce87bd6a59eb1c",
            "48d89998674a4356b0429fdf6bb188cb",
            "d150b42a874e4ab5aa4626b42cd2735b",
            "77d8749fea8d447b8dd0513e208f4d28",
            "b3d4372f7c6f428cb2443a92f4f43af4",
            "bd6907b6dd904aef93d5a0a3d932bd79"
          ]
        }
      },
      "source": [
        "#@title <font color='Blue'>**Run the Deep Hedging Algorithm (Recurrent Network)!**</font>\n",
        "strategy_type = \"recurrent\"\n",
        "optimizer = Adam(learning_rate=lr)\n",
        "\n",
        "# Setup and compile the model\n",
        "model_recurrent = Deep_Hedging(N=N, d=d+2, m=m, risk_free=risk_free, \\\n",
        "                      maturity=maturity).model( \\\n",
        "                      strategy_type=strategy_type, epsilon = epsilon, \\\n",
        "                      loss_type=loss_type, loss_param = loss_param)\n",
        "model_recurrent.compile(optimizer=optimizer)\n",
        "\n",
        "# Stopping criteria\n",
        "model_data_dir =\"./data/\"\n",
        "best_model_file = model_data_dir + \\\n",
        "          \"model_\" + strategy_type + \"_\"  + str(epsilon) + \".h5\"\n",
        "\n",
        "early_stopping = EarlyStopping(monitor=\"loss\", \\\n",
        "          patience=20, min_delta=1e-4, restore_best_weights=True)\n",
        "reduce_lr = ReduceLROnPlateau(monitor=\"loss\", \\\n",
        "          factor=0.9, patience=2, min_delta=1e-3, verbose=0)\n",
        "model_checkpoint = ModelCheckpoint(best_model_file, \\\n",
        "          monitor=\"loss\", save_best_only=True, \\\n",
        "          save_weights_only=False, verbose=0)\n",
        "\n",
        "callbacks = [early_stopping, reduce_lr, model_checkpoint, TqdmCallback()]\n",
        "\n",
        "# Try to preload model weights if possible.\n",
        "try:\n",
        "  model_recurrent.load_weights(best_model_file)\n",
        "except:\n",
        "  pass\n",
        "\n",
        "# Fit the model.\n",
        "model_fit = model_recurrent.fit(x=xtrain, batch_size=batch_size, epochs=epochs, \\\n",
        "            validation_data=(xtest, np.empty(0)), callbacks=callbacks, \\\n",
        "            verbose=0)\n",
        "model_recurrent.save(best_model_file)\n",
        "print(\"Finished running deep hedging algorithm! (Recurrent Network)\")"
      ],
      "execution_count": 8,
      "outputs": [
        {
          "output_type": "display_data",
          "data": {
            "application/vnd.jupyter.widget-view+json": {
              "model_id": "b8fbe9c1db42451caa0c119763fbd0e0",
              "version_minor": 0,
              "version_major": 2
            },
            "text/plain": [
              "HBox(children=(FloatProgress(value=1.0, bar_style='info', max=1.0), HTML(value='')))"
            ]
          },
          "metadata": {
            "tags": []
          }
        },
        {
          "output_type": "display_data",
          "data": {
            "application/vnd.jupyter.widget-view+json": {
              "model_id": "19d941bbd8bf42bc925b72bdc949279a",
              "version_minor": 0,
              "version_major": 2
            },
            "text/plain": [
              "HBox(children=(FloatProgress(value=1.0, bar_style='info', max=1.0), HTML(value='')))"
            ]
          },
          "metadata": {
            "tags": []
          }
        },
        {
          "output_type": "stream",
          "text": [
            "\n",
            "Finished running deep hedging algorithm! (Recurrent Network)\n"
          ],
          "name": "stdout"
        }
      ]
    },
    {
      "cell_type": "code",
      "metadata": {
        "id": "A1NKaQCzLoKL",
        "colab_type": "code",
        "cellView": "form",
        "colab": {
          "base_uri": "https://localhost:8080/",
          "height": 85
        },
        "outputId": "66675c5c-46af-4b7a-b35c-ba51433578d4"
      },
      "source": [
        "#@title <font color='Blue'>**Results: Option Prices**</font>\n",
        "report = Validation(model = model_simple, data = xtest, N = N, process = stochastic_process)\n",
        "\n",
        "# Specify the instrument as an European call option\n",
        "instrument = report.get_instrument(name = \"European_Call\", strike = strike, \\\n",
        "                                    maturity_date = maturity_date)\n",
        "\n",
        "BS_price = report.get_model_PV(instrument)\n",
        "risk_neutral_price = report.get_risk_neutral_PV()\n",
        "nn_simple_price = model_simple.evaluate(xtest, batch_size=batch_size, verbose=0)\n",
        "nn_recurrent_price = model_recurrent.evaluate(xtest, batch_size=batch_size, verbose=0)\n",
        "\n",
        "print(\"The Black-Scholes model price is %2.3f.\" % BS_price)\n",
        "print(\"The Risk Neutral price is %2.3f.\" % risk_neutral_price)\n",
        "print(\"The Deep Hedging (with simple network) price is %2.3f.\" % nn_simple_price)\n",
        "print(\"The Deep Hedging (with recurrent network) price is %2.3f.\" % nn_recurrent_price)"
      ],
      "execution_count": 9,
      "outputs": [
        {
          "output_type": "stream",
          "text": [
            "The Black-Scholes model price is 2.287.\n",
            "The Risk Neutral price is 2.271.\n",
            "The Deep Hedging (with simple network) price is 3.711.\n",
            "The Deep Hedging (with recurrent network) price is 3.575.\n"
          ],
          "name": "stdout"
        }
      ]
    },
    {
      "cell_type": "code",
      "metadata": {
        "id": "_4z7UYxBZRE9",
        "colab_type": "code",
        "cellView": "form",
        "colab": {
          "base_uri": "https://localhost:8080/",
          "height": 541
        },
        "outputId": "888f335f-688c-42ff-c1f4-f281bca2c42b"
      },
      "source": [
        "#@title <font color='Blue'>**Results: Black-Scholes PnL vs Deep Hedging PnL**</font>\n",
        "\n",
        "# Compute Black-Scholes delta for each sample path at each time t.\n",
        "length_test_sample = len(S_test[0][:,0])\n",
        "model_delta = np.zeros((length_test_sample, N+1))\n",
        "func_delta = lambda i, j: report.get_model_delta(instrument, \\\n",
        "                s0=S_test[0][i,j], calculation_date=calculation_date + j)\n",
        "\n",
        "pool = mp.ProcessPool(nodes = mp.cpu_count())\n",
        "for j in trange(N+1):\n",
        "    model_delta[:,j]  = list(pool.map(func_delta, range(length_test_sample), \\\n",
        "                            repeat(j,length_test_sample)))\n",
        "\n",
        "# Compute Black-Scholes PnL (for a short position, i.e. the Bank sells\n",
        "# a call option. The model delta from Quantlib is a long delta.\n",
        "PnL_BS = np.multiply(S_test[0][:,0], -model_delta[:,0]) - \\\n",
        "          np.abs(model_delta[:,0])*S_test[0][:,0]*epsilon\n",
        "for t in range(1, N):\n",
        "  PnL_BS += (np.multiply(S_test[0][:,t], -model_delta[:,t] + model_delta[:,t-1]) - \\\n",
        "               np.abs(model_delta[:,t] - model_delta[:,t-1])*S_test[0][:,t]*epsilon)\n",
        "PnL_BS += (np.multiply(S_test[0][:,N],model_delta[:,N-1]) + option_payoff_test[0] - \\\n",
        "              np.abs(model_delta[:,N-1])*S_test[0][:,N]*epsilon)\n",
        "\n",
        "# Compute deep hedging PnL.\n",
        "[PnL_Deep_Hedge, certainty_equiv] = model_simple.predict(xtest,batch_size=1000,verbose=0)\n",
        "\n",
        "# Plot Black-Scholes PnL and Deep Hedging PnL (with BS_price charged on both).\n",
        "fig_PnL = plt.figure(dpi= 125, facecolor='w')\n",
        "fig_PnL.suptitle(\"Black-Scholes PnL vs Deep Hedging PnL \\n\", \\\n",
        "      fontweight=\"bold\")\n",
        "ax = fig_PnL.add_subplot()\n",
        "ax.set_title(\"Simple Network Structure with epsilon = \" + str(epsilon), \\\n",
        "      fontsize=8)\n",
        "ax.set_xlabel(\"PnL\")\n",
        "ax.set_ylabel(\"Frequency\")\n",
        "ax.hist((PnL_BS+BS_price, reshape_1D(PnL_Deep_Hedge+BS_price)), \\\n",
        "         bins=30, label=[\"Black-Scholes PnL\", \"Deep Hedging PnL\"])\n",
        "ax.legend()\n",
        "plt.show()"
      ],
      "execution_count": 10,
      "outputs": [
        {
          "output_type": "stream",
          "text": [
            "100%|██████████| 31/31 [00:41<00:00,  1.28s/it]\n"
          ],
          "name": "stderr"
        },
        {
          "output_type": "display_data",
          "data": {
            "image/png": "[encoded data removed]",
            "text/plain": [
              "<Figure size 750x500 with 1 Axes>"
            ]
          },
          "metadata": {
            "tags": []
          }
        }
      ]
    },
    {
      "cell_type": "code",
      "metadata": {
        "id": "q_MNSesPIMaz",
        "colab_type": "code",
        "cellView": "form",
        "colab": {
          "base_uri": "https://localhost:8080/",
          "height": 524
        },
        "outputId": "0e4867bf-61cc-4717-ffab-b556585aff0b"
      },
      "source": [
        "#@title <font color='Blue'>**Results: Black-Scholes Delta vs Deep Hedging Delta.**</font>\n",
        "days_from_today = 15\n",
        "\n",
        "# x-axis: [Min_S, 10th percentile, ..., 90th percentile,  Max_S]\n",
        "S_range = np.sort(S_test[0][:,days_from_today])\n",
        "idx2select = np.append(np.arange(0, len(S_range), \\\n",
        "\t\t\t\tint(len(S_range)/100)), len(S_range)-1)\n",
        "\n",
        "# Compute NN delta.\n",
        "submodel = Model(model_simple.input, model_simple.get_layer(\"dense_\" + str(d+1) \\\n",
        "\t\t\t\t\t\t  + \"_\" + str(days_from_today)).output)\n",
        "nn_delta = submodel.predict(xtest, batch_size=1000,verbose=0)\n",
        "\n",
        "tmp_stack = np.stack((S_test[0][:,days_from_today],reshape_1D(nn_delta)),axis=1)\n",
        "tmp_stack = tmp_stack[tmp_stack[:,0].argsort()]\n",
        "tmp_stack = tmp_stack[idx2select]\n",
        "\n",
        "S_range = tmp_stack[:,0]\n",
        "nn_delta = tmp_stack[:,1]\n",
        "\n",
        "# Compute Black-Scholes delta for S_range.\n",
        "model_delta = np.zeros(S_range.shape)\n",
        "for i in range(len(S_range)):\n",
        "  model_delta[i] = report.get_model_delta(instrument, s0= S_range[i], \\\n",
        "          calculation_date=calculation_date + days_from_today)\n",
        "  \n",
        "# Create a plot of Black-Scholes delta against deep hedging delta.\n",
        "fig_delta = plt.figure(dpi= 125, facecolor='w')\n",
        "fig_delta.suptitle(\"Black-Scholes Delta vs Deep Hedging Delta \\n\", \\\n",
        "      fontweight=\"bold\")\n",
        "ax_delta = fig_delta.add_subplot()\n",
        "ax_delta.set_title(\"Simple Network Structure with \" + \\\n",
        "             \"t=\" + str(days_from_today) + \", \" + \\\n",
        "              \"epsilon=\" + str(epsilon), \\\n",
        "              fontsize=8)\n",
        "ax_delta.set_xlabel(\"Price of the Underlying Asset\")\n",
        "ax_delta.set_ylabel(\"Delta\")\n",
        "ax_delta.plot(S_range, model_delta, label=\"Black-Scholes Delta\")\n",
        "ax_delta.scatter(S_range,nn_delta, c=\"red\", s=2, label=\"Deep Hedging Delta\")\n",
        "ax_delta.legend()\n",
        "plt.show()"
      ],
      "execution_count": 11,
      "outputs": [
        {
          "output_type": "display_data",
          "data": {
            "image/png": "[encoded data removed]",
            "text/plain": [
              "<Figure size 750x500 with 1 Axes>"
            ]
          },
          "metadata": {
            "tags": []
          }
        }
      ]
    },
    {
      "cell_type": "code",
      "metadata": {
        "id": "7MD7DCgHmjiv",
        "colab_type": "code",
        "cellView": "form",
        "colab": {
          "base_uri": "https://localhost:8080/",
          "height": 558
        },
        "outputId": "2e96da98-a0ed-49b7-9c8d-d9cc628e6c29"
      },
      "source": [
        "#@title <font color='Blue'>**Results: Simple vs Recurrent Network**</font>\n",
        "\n",
        "# Compute deep hedging PnL for simple network.\n",
        "try:\n",
        "  tmp_model_str = model_data_dir + \\\n",
        "            \"model_\" + \"simple\" + \"_\"  + str(epsilon) + \".h5\"\n",
        "  model_simple = tf.keras.models.load_model(tmp_model_str )\t\n",
        "  [PnL_Deep_Hedge_simple, certainty_equiv] = \\\n",
        "            model_simple.predict(xtest,batch_size=1000,verbose=0)\n",
        "except:\n",
        "  print(\"File does not exist! You need to first run the simple network.\")\n",
        "\n",
        "# Compute deep hedging PnL for recurrent network.\n",
        "try:\n",
        "  tmp_model_str = model_data_dir + \\\n",
        "            \"model_\" + \"recurrent\" + \"_\"  + str(epsilon) + \".h5\"\n",
        "  model_recurrent = tf.keras.models.load_model(tmp_model_str )\t\n",
        "  [PnL_Deep_Hedge_recurrent, certainty_equiv] = \\\n",
        "            model_recurrent.predict(xtest,batch_size=1000,verbose=0)\n",
        "except:\n",
        "  print(\"File does not exist! You need to first run the recurrent network.\")\n",
        "\n",
        "# Plot Black-Scholes PnL and Deep Hedging PnL (with BS_price charged on both).\n",
        "print(\"\\n\")\n",
        "fig_nn = plt.figure(dpi= 125, facecolor='w')\n",
        "fig_nn.suptitle(\"Simple Network PnL vs Recurrent Network PnL \\n \", \\\n",
        "      fontweight=\"bold\")\n",
        "ax = fig_nn.add_subplot()\n",
        "ax.set_title(\"epsilon = \" + str(epsilon), fontsize=8)\n",
        "ax.set_xlabel(\"PnL\")\n",
        "ax.set_ylabel(\"Frequency\")\n",
        "ax.hist((reshape_1D(PnL_Deep_Hedge_simple+BS_price), \\\n",
        "          reshape_1D(PnL_Deep_Hedge_recurrent+BS_price)), \\\n",
        "         bins=30, label=[\"Simple Network PnL\", \"Recurrent Network PnL\"])\n",
        "ax.legend()\n",
        "plt.show()"
      ],
      "execution_count": 12,
      "outputs": [
        {
          "output_type": "stream",
          "text": [
            "\n",
            "\n"
          ],
          "name": "stdout"
        },
        {
          "output_type": "display_data",
          "data": {
            "image/png": "[encoded data removed]",
            "text/plain": [
              "<Figure size 750x500 with 1 Axes>"
            ]
          },
          "metadata": {
            "tags": []
          }
        }
      ]
    }
  ]
}