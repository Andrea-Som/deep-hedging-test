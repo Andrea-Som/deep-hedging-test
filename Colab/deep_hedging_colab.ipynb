{
  "nbformat": 4,
  "nbformat_minor": 0,
  "metadata": {
    "colab": {
      "name": "deep_hedging_colab",
      "provenance": [],
      "collapsed_sections": [],
      "authorship_tag": "ABX9TyN75Emc9sES0JR5wfl/PC+O",
      "include_colab_link": true
    },
    "kernelspec": {
      "name": "python3",
      "display_name": "Python 3"
    }
  },
  "cells": [
    {
      "cell_type": "markdown",
      "metadata": {
        "id": "view-in-github",
        "colab_type": "text"
      },
      "source": [
        "<a href=\"https://colab.research.google.com/github/YuMan-Tam/deep-hedging-demo/blob/master/Colab/deep_hedging_colab.ipynb\" target=\"_parent\"><img src=\"https://colab.research.google.com/assets/colab-badge.svg\" alt=\"Open In Colab\"/></a>"
      ]
    },
    {
      "cell_type": "code",
      "metadata": {
        "id": "nMnI5JIocCaD",
        "colab_type": "code",
        "cellView": "form",
        "outputId": "6f3fac43-7456-4c36-910a-c05fbd80bf5c",
        "colab": {
          "base_uri": "https://localhost:8080/",
          "height": 52
        }
      },
      "source": [
        "#@title <font color='Blue'>**Overheads**</font>\n",
        "\n",
        "# Author: Yu-Man Tam\n",
        "# Last updated: 4/10/2020\n",
        "\n",
        "# Reference: Deep Hedging (2019, Quantitative Finance) by Buehler et al.\n",
        "# https://www.tandfonline.com/doi/abs/10.1080/14697688.2019.1571683\n",
        "\n",
        "!apt-get update --fix-missing\n",
        "!apt-get -qq install -y libquantlib0-dev\n",
        "!pip -q install QuantLib tqdm>=4.45.0\n",
        "\n",
        "%tensorflow_version 2.x\n",
        "\n",
        "# Import custom modules from github\n",
        "!rm -rf deep-hedging-demo\n",
        "!git clone https://github.com/YuMan-Tam/deep-hedging-demo\n",
        "\n",
        "import sys, os\n",
        "sys.path.insert(0, os.getcwd() + \"/deep-hedging-demo/lib\")\n",
        "\n",
        "from IPython.display import Math, HTML, clear_output\n",
        "\n",
        "import numpy as np\n",
        "import QuantLib as ql\n",
        "import tensorflow as tf\n",
        "from scipy.stats import norm\n",
        "\n",
        "from tensorflow.keras.callbacks import EarlyStopping, ModelCheckpoint, \\\n",
        "                                            ReduceLROnPlateau\n",
        "from tensorflow.compat.v1.keras.optimizers import Adam\n",
        "from tensorflow.keras.models import Model\n",
        "\n",
        "import matplotlib.pyplot as plt\n",
        "\n",
        "from stochastic_processes import BlackScholesProcess\n",
        "from instruments import European_Call\n",
        "from deep_hedging import Deep_Hedging_Model, Delta_SubModel\n",
        "from loss_metrics import Entropy\n",
        "from utilities import train_test_split\n",
        "\n",
        "%load_ext autoreload\n",
        "\n",
        "clear_output()\n",
        "print(\"\\nFinish installing and importing all necessary libraries!\")"
      ],
      "execution_count": 1,
      "outputs": [
        {
          "output_type": "stream",
          "text": [
            "\n",
            "Finish installing and importing all necessary libraries!\n"
          ],
          "name": "stdout"
        }
      ]
    },
    {
      "cell_type": "markdown",
      "metadata": {
        "id": "GptSMgcl525K",
        "colab_type": "text"
      },
      "source": [
        "**Import all neccessary python, quantitative finance, and machine learning software libraries.**"
      ]
    },
    {
      "cell_type": "code",
      "metadata": {
        "id": "Uusmc7_Uc4wN",
        "colab_type": "code",
        "cellView": "form",
        "colab": {}
      },
      "source": [
        "#@title <font color='Blue'>**User Inputs**</font>\n",
        "\n",
        "# Geometric Brownian Motion.\n",
        "N = 30 # Number of time steps (in days)\n",
        "\n",
        "S0 = 100.0 # Stock price at time = 0\n",
        "sigma = 0.2 # Implied volatility\n",
        "risk_free = 0.0 # Risk-free rate\n",
        "dividend = 0.0 # Continuous dividend yield\n",
        "\n",
        "Ktrain = 1*(10**5) # Size of training sample.\n",
        "Ktest_ratio = 0.2 # Fraction of training sample as testing sample.\n",
        "\n",
        "# European call option (short).\n",
        "strike = S0\n",
        "payoff_func = lambda x: -np.maximum(x - strike, 0.0)\n",
        "calculation_date = ql.Date.todaysDate()\n",
        "maturity_date = ql.Date.todaysDate() + N\n",
        "\n",
        "# Day convention.\n",
        "day_count = ql.Actual365Fixed() # Actual/Actual (ISDA)\n",
        "\n",
        "# Proportional transaction cost.\n",
        "epsilon = 0.0\n",
        "\n",
        "# Information set (in string)\n",
        "# Choose from: S, log_S, normalized_log_S (by S0)\n",
        "information_set = \"normalized_log_S\"\n",
        "\n",
        "# Loss function\n",
        "# loss_type = \"CVaR\" (Expected Shortfall) -> loss_param = alpha \n",
        "# loss_type = \"Entropy\" -> loss_param = lambda\n",
        "loss_type = \"Entropy\"\n",
        "loss_param = 1.0\n",
        "\n",
        "# Neural network (NN) structure\n",
        "m = 15 # Number of neurons in each hidden layer.\n",
        "d = 1 # Number of hidden layers (Note including input nor output layer)         \n",
        "\n",
        "# Neural network training parameters\n",
        "lr = 1e-2 # Learning rate\n",
        "batch_size=256 # Batch size\n",
        "epochs=50 # Number of epochs\n",
        "\n",
        "# Other parameters\n",
        "use_batch_norm = False\n",
        "kernel_initializer = \"he_uniform\"\n",
        "\n",
        "activation_dense = \"leaky_relu\"\n",
        "activation_output = \"tanh\"\n",
        "final_period_cost = False\n",
        "\n",
        "delta_constraint = (0.0, 1.0)\n",
        "share_stretegy_across_time = False\n",
        "cost_structure = \"proportional\"\n",
        "\n",
        "# Other control flags for development purpose.\n",
        "mc_simulator = \"QuantLib\" # \"QuantLib\" or \"Numpy\"\n"
      ],
      "execution_count": 0,
      "outputs": []
    },
    {
      "cell_type": "markdown",
      "metadata": {
        "id": "PR8SZiGi7Ygm",
        "colab_type": "text"
      },
      "source": [
        "**Provide input parameters for Monte Carlo simulation, call option, transaction cost, loss function, and deep hedging algorithm.**"
      ]
    },
    {
      "cell_type": "code",
      "metadata": {
        "id": "vuLfzImssxVz",
        "colab_type": "code",
        "cellView": "form",
        "outputId": "e74ee3ce-ae08-40fc-9160-e485a45a7a75",
        "colab": {
          "base_uri": "https://localhost:8080/",
          "height": 191
        }
      },
      "source": [
        "#@title <font color='Blue'>**Monte Carlo Simulation - Generate Random Paths of Stock Prices**</font>\n",
        "%autoreload 2\n",
        "\n",
        "seed = 0 # Random seed. Change to have deterministic outcome.\n",
        "\n",
        "# Total obs = Training + Testing\n",
        "nobs = int(Ktrain*(1+Ktest_ratio)) \n",
        "\t\t\n",
        "# Length of one time-step (as fraction of a year).\n",
        "dt = day_count.yearFraction(calculation_date,calculation_date + 1) \n",
        "maturity = N*dt # Maturities (in the unit of a year)\n",
        "\n",
        "stochastic_process = BlackScholesProcess(s0 = S0, sigma = sigma, risk_free = risk_free, \\\n",
        "                        dividend = dividend, day_count = day_count, seed=seed)\n",
        "\n",
        "S = stochastic_process.gen_path(maturity, N, nobs)\n",
        "\n",
        "clear_output()\n",
        "\n",
        "print(\"\\n\\ns0 = \" + str(S0))\n",
        "print(\"sigma = \" + str(sigma))\n",
        "print(\"risk_free = \" + str(risk_free) + \"\\n\")\n",
        "print(\"Number of time steps = \" + str(N))\n",
        "print(\"Length of each time step = \" + \"1/365\\n\")\n",
        "print(\"Simulation Done!\")"
      ],
      "execution_count": 129,
      "outputs": [
        {
          "output_type": "stream",
          "text": [
            "\n",
            "\n",
            "s0 = 100.0\n",
            "sigma = 0.2\n",
            "risk_free = 0.0\n",
            "\n",
            "Number of time steps = 30\n",
            "Length of each time step = 1/365\n",
            "\n",
            "Simulation Done!\n"
          ],
          "name": "stdout"
        }
      ]
    },
    {
      "cell_type": "code",
      "metadata": {
        "id": "b3PXslQawKv1",
        "colab_type": "code",
        "cellView": "form",
        "outputId": "49c7c8d0-8ff2-4c93-fc11-5b7a8f8586bc",
        "colab": {
          "base_uri": "https://localhost:8080/",
          "height": 35
        }
      },
      "source": [
        "#@title <font color='Blue'>**Prepare data to be fed into the deep hedging algorithm.**</font>\n",
        "\n",
        "payoff_T = payoff_func(S[:,-1]) # Payoff of the call option\n",
        "\n",
        "trade_set =  np.stack((S),axis=1) # Trading set\n",
        "\n",
        "if information_set is \"S\":\n",
        "  I =  np.stack((S),axis=1) # Information set\n",
        "elif information_set is \"log_S\":\n",
        "  I =  np.stack((np.log(S)),axis=1)\n",
        "elif information_set is \"normalized_log_S\":\n",
        "  I =  np.stack((np.log(S/S0)),axis=1)\n",
        "\n",
        "# Structure of xtrain:\n",
        "#   1) Trade set: [S]\n",
        "#   2) Information set: [S] \n",
        "#   3) payoff (dim = 1)\n",
        "x_all = []\n",
        "for i in range(N+1):\n",
        "  x_all += [trade_set[i,:,None]]\n",
        "  if i != N:\n",
        "    x_all += [I[i,:,None]]\n",
        "x_all += [payoff_T[:,None]]\n",
        "\n",
        "# Split the entire sample into a training sample and a testing sample.\n",
        "test_size = int(Ktrain*Ktest_ratio)\n",
        "[xtrain, xtest] = train_test_split(x_all, test_size=test_size)\n",
        "[S_train, S_test] = train_test_split([S], test_size=test_size)\n",
        "[option_payoff_train, option_payoff_test] = \\\n",
        "    train_test_split([x_all[-1]], test_size=test_size)\n",
        "\n",
        "print(\"Finish preparing data!\")"
      ],
      "execution_count": 130,
      "outputs": [
        {
          "output_type": "stream",
          "text": [
            "Finish preparing data!\n"
          ],
          "name": "stdout"
        }
      ]
    },
    {
      "cell_type": "code",
      "metadata": {
        "id": "zecdBxqRKD-K",
        "colab_type": "code",
        "cellView": "form",
        "outputId": "f958d238-fcf9-45d9-94ba-ecfc8489f1c3",
        "colab": {
          "base_uri": "https://localhost:8080/",
          "height": 35
        }
      },
      "source": [
        "#@title <font color='Blue'>**Run the Deep Hedging Algorithm (Simple Network)!**</font>\n",
        "%autoreload 2\n",
        "\n",
        "optimizer = Adam(learning_rate=lr)\n",
        "\n",
        "# Setup and compile the model\n",
        "model_simple = Deep_Hedging_Model(N=N, d=d+2, m=m, risk_free=risk_free, \\\n",
        "          dt = dt, strategy_type=\"simple\", epsilon = epsilon, \\\n",
        "          use_batch_norm = use_batch_norm, kernel_initializer = kernel_initializer, \\\n",
        "          activation_dense = activation_dense, activation_output = activation_output, \\\n",
        "          final_period_cost = final_period_cost, delta_constraint = delta_constraint, \\\n",
        "          share_stretegy_across_time = share_stretegy_across_time, \\\n",
        "          cost_structure = cost_structure)\n",
        "loss = Loss(\"Entropy\", model_simple.output, loss_param)\n",
        "model_simple.add_loss(loss)\n",
        "\n",
        "model_simple.compile(optimizer=optimizer)\n",
        "\n",
        "early_stopping = EarlyStopping(monitor=\"loss\", \\\n",
        "          patience=10, min_delta=1e-4, restore_best_weights=True)\n",
        "reduce_lr = ReduceLROnPlateau(monitor=\"loss\", \\\n",
        "          factor=0.5, patience=2, min_delta=1e-3, verbose=0)\n",
        "\n",
        "callbacks = [early_stopping, reduce_lr]\n",
        "\n",
        "# Fit the model.\n",
        "model_simple.fit(x=xtrain, batch_size=batch_size, epochs=epochs, \\\n",
        "          validation_data=xtest, verbose=1)\n",
        "\n",
        "clear_output()\n",
        "\n",
        "print(\"Finished running deep hedging algorithm! (Simple Network)\")"
      ],
      "execution_count": 134,
      "outputs": [
        {
          "output_type": "stream",
          "text": [
            "Finished running deep hedging algorithm! (Simple Network)\n"
          ],
          "name": "stdout"
        }
      ]
    },
    {
      "cell_type": "code",
      "metadata": {
        "id": "L6ykKzCDw8q7",
        "colab_type": "code",
        "cellView": "form",
        "outputId": "b5549d49-ec9a-4a0d-b5b1-ef664a573065",
        "colab": {
          "base_uri": "https://localhost:8080/",
          "height": 35
        }
      },
      "source": [
        "#@title <font color='Blue'>**Run the Deep Hedging Algorithm (Recurrent Network)!**</font>\n",
        "optimizer = Adam(learning_rate=lr)\n",
        "\n",
        "# Setup and compile the model\n",
        "model_recurrent = Deep_Hedging_Model(N=N, d=d+2, m=m, risk_free=risk_free, \\\n",
        "          dt = dt, strategy_type=\"recurrent\", epsilon = epsilon, \\\n",
        "          use_batch_norm = use_batch_norm, kernel_initializer = kernel_initializer, \\\n",
        "          activation_dense = activation_dense, activation_output = activation_output, \\\n",
        "          final_period_cost = final_period_cost)\n",
        "\n",
        "loss = Loss(\"Entropy\", model_recurrent.output, loss_param)\n",
        "model_recurrent.add_loss(loss)\n",
        "\n",
        "model_recurrent.compile(optimizer=optimizer)\n",
        "\n",
        "early_stopping = EarlyStopping(monitor=\"loss\", \\\n",
        "          patience=10, min_delta=1e-4, restore_best_weights=True)\n",
        "reduce_lr = ReduceLROnPlateau(monitor=\"loss\", \\\n",
        "          factor=0.5, patience=2, min_delta=1e-3, verbose=0)\n",
        "\n",
        "callbacks = [early_stopping, reduce_lr]\n",
        "\n",
        "# Fit the model.\n",
        "model_recurrent.fit(x=xtrain, batch_size=batch_size, epochs=epochs, \\\n",
        "          validation_data=xtest, verbose=1)\n",
        "\n",
        "clear_output()\n",
        "print(\"Finished running deep hedging algorithm! (Simple Network)\")"
      ],
      "execution_count": 114,
      "outputs": [
        {
          "output_type": "stream",
          "text": [
            "Finished running deep hedging algorithm! (Simple Network)\n"
          ],
          "name": "stdout"
        }
      ]
    },
    {
      "cell_type": "code",
      "metadata": {
        "id": "A1NKaQCzLoKL",
        "colab_type": "code",
        "cellView": "form",
        "outputId": "bfb6a9d3-293f-4631-cef4-bdc5ca250af1",
        "colab": {
          "base_uri": "https://localhost:8080/",
          "height": 87
        }
      },
      "source": [
        "#@title <font color='Blue'>**Results: Option Prices**</font>\n",
        "call = European_Call()\n",
        "\n",
        "price_BS = call.get_BS_price(S = S_test[0], sigma = sigma, \\\n",
        "              risk_free = risk_free, dividend = dividend, K = strike, \\\n",
        "              exercise_date = maturity_date, \\\n",
        "              calculation_date = calculation_date, \\\n",
        "              day_count = day_count, dt = dt)\n",
        "delta_BS = call.get_BS_delta(S = S_test[0], sigma = sigma, \\\n",
        "              risk_free = risk_free, dividend = dividend, K = strike, \\\n",
        "              exercise_date = maturity_date, \\\n",
        "              calculation_date = calculation_date, \n",
        "              day_count = day_count, dt = dt)\n",
        "\n",
        "PnL_BS =  call.get_BS_PnL(S= S_test[0], \\\n",
        "              payoff= payoff_func(S_test[0][:,-1]), delta=delta_BS, \\\n",
        "              dt= dt, risk_free = risk_free, \\\n",
        "              final_period_cost=final_period_cost, epsilon=epsilon, \\\n",
        "              cost_structure = cost_structure )\n",
        "\n",
        "risk_neutral_price = \\\n",
        "    -option_payoff_test[0].mean()*np.exp(-risk_free*(N*dt))\n",
        "nn_simple_price = model_simple.evaluate(xtest, batch_size=test_size, verbose=0)\n",
        "\n",
        "print(\"The Black-Scholes model price is %2.3f.\" % price_BS[0][0])\n",
        "print(\"The Risk Neutral price is %2.3f.\" % risk_neutral_price)\n",
        "print(\"The Deep Hedging (with simple network) price is %2.3f.\" % nn_simple_price)\n",
        "\n",
        "try:\n",
        "  nn_recurrent_price = model_recurrent.evaluate(xtest, batch_size=test_size, verbose=0)\n",
        "  print(\"The Deep Hedging (with recurrent network) price is %2.3f.\" % nn_recurrent_price)\n",
        "except:\n",
        "  print(\"No Recurrent model.\")\n"
      ],
      "execution_count": 123,
      "outputs": [
        {
          "output_type": "stream",
          "text": [
            "The Black-Scholes model price is 2.287.\n",
            "The Risk Neutral price is 2.292.\n",
            "The Deep Hedging (with simple network) price is 4.471.\n",
            "The Deep Hedging (with recurrent network) price is 2.439.\n"
          ],
          "name": "stdout"
        }
      ]
    },
    {
      "cell_type": "code",
      "metadata": {
        "id": "_4z7UYxBZRE9",
        "colab_type": "code",
        "cellView": "form",
        "colab": {}
      },
      "source": [
        "#@title <font color='Blue'>**Results: Black-Scholes PnL vs Deep Hedging PnL**</font>\n",
        "bar1 = PnL_BS + price_BS[0][0]\n",
        "bar2 = model_simple(xtest).numpy().squeeze() + price_BS[0][0]\n",
        "\n",
        "# Plot Black-Scholes PnL and Deep Hedging PnL (with BS_price charged on both).\n",
        "fig_PnL = plt.figure(dpi= 125, facecolor='w')\n",
        "fig_PnL.suptitle(\"Black-Scholes PnL vs Deep Hedging PnL \\n\", \\\n",
        "      fontweight=\"bold\")\n",
        "ax = fig_PnL.add_subplot()\n",
        "ax.set_title(\"Simple Network Structure with epsilon = \" + str(epsilon), \\\n",
        "      fontsize=8)\n",
        "ax.set_xlabel(\"PnL\")\n",
        "ax.set_ylabel(\"Frequency\")\n",
        "ax.hist((bar1,bar2), bins=30, \\\n",
        "          label=[\"Black-Scholes PnL\", \"Deep Hedging PnL\"])\n",
        "ax.legend()\n",
        "plt.show()"
      ],
      "execution_count": 0,
      "outputs": []
    },
    {
      "cell_type": "code",
      "metadata": {
        "id": "q_MNSesPIMaz",
        "colab_type": "code",
        "cellView": "form",
        "colab": {}
      },
      "source": [
        "#@title <font color='Blue'>**Results: Black-Scholes Delta vs Deep Hedging Delta.**</font>\n",
        "for days_from_today in (1,2,3):\n",
        "  tau = (N-days_from_today)*dt\n",
        "    \n",
        "  min_S = S_test[0][:,days_from_today].min()\n",
        "  max_S = S_test[0][:,days_from_today].max()\n",
        "  S_range = np.linspace(min_S,max_S,101)\n",
        "\n",
        "  # Attention: Need to transform it to be consistent with the information set.\n",
        "  if information_set is \"S\":\n",
        "    I_range =  S_range # Information set\n",
        "  elif information_set is \"log_S\":\n",
        "    I_range =  np.log(S_range)\n",
        "  elif information_set is \"normalized_log_S\":\n",
        "    I_range =  np.log(S_range/S0)        \n",
        "      \n",
        "  # Compute Black-Scholes delta for S_range.\n",
        "  # Reference: https://en.wikipedia.org/wiki/Greeks_(finance)\n",
        "  d1 = (np.log(S_range) - np.log(strike) + \\\n",
        "        (risk_free - dividend + (sigma**2)/2)*tau) \\\n",
        "              / (sigma*np.sqrt(tau))  \n",
        "                \n",
        "  model_delta = norm.cdf(d1)*np.exp(-dividend*tau)\n",
        "\n",
        "  if share_stretegy_across_time is False:\n",
        "    submodel = Delta_SubModel(model = model_simple, \\\n",
        "                      days_from_today = days_from_today)\n",
        "  else:\n",
        "    submodel = Delta_SubModel(model = model_simple, \\\n",
        "                      days_from_today = 0)\n",
        "    \n",
        "  nn_delta = submodel(I_range)\n",
        "\n",
        "  # Create a plot of Black-Scholes delta against deep hedging delta.\n",
        "  fig_delta = plt.figure(dpi= 125, facecolor='w')\n",
        "  fig_delta.suptitle(\"Black-Scholes Delta vs Deep Hedging Delta \\n\", \\\n",
        "        fontweight=\"bold\")\n",
        "  ax_delta = fig_delta.add_subplot()\n",
        "  ax_delta.set_title(\"Simple Network Structure with \" + \\\n",
        "              \"t=\" + str(days_from_today) + \", \" + \\\n",
        "                \"epsilon=\" + str(epsilon), \\\n",
        "                fontsize=8)\n",
        "  ax_delta.set_xlabel(\"Price of the Underlying Asset\")\n",
        "  ax_delta.set_ylabel(\"Delta\")\n",
        "  ax_delta.plot(S_range, model_delta, label=\"Black-Scholes Delta\")\n",
        "  ax_delta.scatter(S_range,nn_delta, c=\"red\", s=2, label=\"Deep Hedging Delta\")\n",
        "  ax_delta.legend()\n",
        "  plt.show()"
      ],
      "execution_count": 0,
      "outputs": []
    },
    {
      "cell_type": "code",
      "metadata": {
        "id": "7MD7DCgHmjiv",
        "colab_type": "code",
        "cellView": "form",
        "colab": {}
      },
      "source": [
        "#@title <font color='Blue'>**Results: Simple vs Recurrent Network**</font>\n",
        "bar1 = model_simple(xtest).numpy().squeeze() + price_BS[0][0]\n",
        "bar2 = model_recurrent(xtest).numpy().squeeze() + price_BS[0][0]\n",
        "\n",
        "# Plot Simple Network PnL vs Recurrent Network PnL (with BS_price charged on both).\n",
        "fig_nn = plt.figure(dpi= 125, facecolor='w')\n",
        "fig_nn.suptitle(\"Simple Network PnL vs Recurrent Network PnL \\n \", \\\n",
        "      fontweight=\"bold\")\n",
        "ax = fig_nn.add_subplot()\n",
        "ax.set_title(\"epsilon = \" + str(epsilon), fontsize=8)\n",
        "ax.set_xlabel(\"PnL\")\n",
        "ax.set_ylabel(\"Frequency\")\n",
        "ax.hist((bar1,bar2), bins=30, \\\n",
        "      label=[\"Simple Network PnL\", \"Recurrent Network PnL\"])\n",
        "ax.legend()\n",
        "plt.show()"
      ],
      "execution_count": 0,
      "outputs": []
    },
    {
      "cell_type": "code",
      "metadata": {
        "id": "F-zcgbT9BUUV",
        "colab_type": "code",
        "colab": {},
        "cellView": "form"
      },
      "source": [
        "#@title <font color='Blue'>**Results: Hedging Errors**</font>\n",
        "%autoreload 2\n",
        "\n",
        "num_models_to_plot = 3\n",
        "\n",
        "models = [None for _ in range(num_models_to_plot)]\n",
        "for i in range(num_models_to_plot):\n",
        "  optimizer = Adam(learning_rate=lr)\n",
        "\n",
        "  # Setup and compile the model\n",
        "  model_simple = Deep_Hedging_Model(N=N, d=d+2, m=m, risk_free=risk_free, \\\n",
        "            dt = dt, strategy_type=\"simple\", epsilon = epsilon, \\\n",
        "            use_batch_norm = use_batch_norm, kernel_initializer = kernel_initializer, \\\n",
        "            activation_dense = activation_dense, activation_output = activation_output, \\\n",
        "            final_period_cost = final_period_cost, delta_constraint = delta_constraint, \\\n",
        "            share_stretegy_across_time = share_stretegy_across_time, \\\n",
        "            cost_structure = cost_structure)\n",
        "  loss = Loss(\"Entropy\", model_simple.output, loss_param)\n",
        "  model_simple.add_loss(loss)\n",
        "\n",
        "  model_simple.compile(optimizer=optimizer)\n",
        "\n",
        "  early_stopping = EarlyStopping(monitor=\"loss\", \\\n",
        "            patience=10, min_delta=1e-4, restore_best_weights=True)\n",
        "  reduce_lr = ReduceLROnPlateau(monitor=\"loss\", \\\n",
        "            factor=0.5, patience=2, min_delta=1e-3, verbose=0)\n",
        "\n",
        "  callbacks = [early_stopping, reduce_lr]\n",
        "\n",
        "  # Fit the model.\n",
        "  model_simple.fit(x=xtrain, batch_size=batch_size, epochs=epochs, \\\n",
        "            validation_data=xtest, verbose=1)\n",
        "\n",
        "  clear_output()\n",
        "  models[i] = model_simple\n",
        "\n",
        "print(\"Finished running deep hedging algorithm! (Simple Network)\")\n",
        "\n",
        "# Plotting results for the hedging errors.\n",
        "days_from_today = 1\n",
        "\n",
        "tau = (N-days_from_today)*dt\n",
        "  \n",
        "min_S = S_test[0][:,days_from_today].min()\n",
        "max_S = S_test[0][:,days_from_today].max()\n",
        "S_range = np.linspace(min_S,max_S,101)\n",
        "\n",
        "# Attention: Need to transform it to be consistent with the information set.\n",
        "if information_set is \"S\":\n",
        "  I_range =  S_range # Information set\n",
        "elif information_set is \"log_S\":\n",
        "  I_range =  np.log(S_range)\n",
        "elif information_set is \"normalized_log_S\":\n",
        "  I_range =  np.log(S_range/S0)        \n",
        "\n",
        "# Compute Black-Scholes delta for S_range.\n",
        "# Reference: https://en.wikipedia.org/wiki/Greeks_(finance)\n",
        "d1 = (np.log(S_range) - np.log(strike) + \\\n",
        "      (risk_free - dividend + (sigma**2)/2)*tau) \\\n",
        "            / (sigma*np.sqrt(tau))  \n",
        "              \n",
        "model_delta = norm.cdf(d1)*np.exp(-dividend*tau)\n",
        "\n",
        "# Create a plot of Black-Scholes delta against deep hedging delta.\n",
        "fig_delta = plt.figure(dpi= 125, facecolor='w')\n",
        "fig_delta.suptitle(\"Black-Scholes Delta vs Deep Hedging Delta \\n\", \\\n",
        "      fontweight=\"bold\")\n",
        "ax_delta = fig_delta.add_subplot()\n",
        "ax_delta.set_title(\"Simple Network Structure with \" + \\\n",
        "            \"t=\" + str(days_from_today) + \", \" + \\\n",
        "              \"epsilon=\" + str(epsilon), \\\n",
        "              fontsize=8)\n",
        "ax_delta.set_xlabel(\"Price of the Underlying Asset\")\n",
        "ax_delta.set_ylabel(\"Delta\")\n",
        "ax_delta.plot(S_range, model_delta, label=\"Black-Scholes Delta\")\n",
        "\n",
        "colors = [\"red\", \"green\", \"black\"]\n",
        "for i in range(num_models_to_plot):\n",
        "  model_simple = models[i]\n",
        "  if share_stretegy_across_time is False:\n",
        "    submodel = Delta_SubModel(model = model_simple, \\\n",
        "                      days_from_today = days_from_today)\n",
        "  else:\n",
        "    submodel = Delta_SubModel(model = model_simple, \\\n",
        "                      days_from_today = 0)\n",
        "    \n",
        "  nn_delta = submodel(I_range)\n",
        "  ax_delta.scatter(S_range,nn_delta, c=colors[i], s=2, label=\"Deep Hedging Delta - Run {}\".format(i+1))\n",
        "  nn_simple_price = model_simple.evaluate(xtest, batch_size=test_size, verbose=0)\n",
        "  print(\"The Deep Hedging (with simple network) price is %2.3f.\" % nn_simple_price)\n",
        "\n",
        "ax_delta.legend()\n",
        "plt.show()"
      ],
      "execution_count": 0,
      "outputs": []
    },
    {
      "cell_type": "code",
      "metadata": {
        "id": "zMYA8jMHI6CF",
        "colab_type": "code",
        "colab": {
          "base_uri": "https://localhost:8080/",
          "height": 524
        },
        "cellView": "form",
        "outputId": "aa9c1252-fa8d-432d-85dc-18748afaef17"
      },
      "source": [
        "#@title <font color='Blue'>**Results: Extrapolation**</font>\n",
        "days_from_today = 15\n",
        "tau = (N-days_from_today)*dt\n",
        "  \n",
        "min_S = S_test[0][:,days_from_today].min()\n",
        "max_S = S_test[0][:,days_from_today].max()\n",
        "\n",
        "S_range = np.linspace(min_S*0.8,max_S*1.2,101)\n",
        "\n",
        "in_sample_range = S_range[np.any([S_range>=min_S, S_range <= max_S], axis=0)]\n",
        "out_sample_range_low = S_range[S_range<min_S]\n",
        "out_sample_range_high = S_range[S_range>max_S]\n",
        "\n",
        "# Attention: Need to transform it to be consistent with the information set.\n",
        "if information_set is \"S\":\n",
        "  I_range =  S_range # Information set\n",
        "elif information_set is \"log_S\":\n",
        "  I_range =  np.log(S_range)\n",
        "elif information_set is \"normalized_log_S\":\n",
        "  I_range =  np.log(S_range/S0)        \n",
        "    \n",
        "# Compute Black-Scholes delta for S_range.\n",
        "# Reference: https://en.wikipedia.org/wiki/Greeks_(finance)\n",
        "d1 = (np.log(S_range) - np.log(strike) + \\\n",
        "      (risk_free - dividend + (sigma**2)/2)*tau) \\\n",
        "            / (sigma*np.sqrt(tau))  \n",
        "              \n",
        "model_delta = norm.cdf(d1)*np.exp(-dividend*tau)\n",
        "\n",
        "if share_stretegy_across_time is False:\n",
        "  submodel = Delta_SubModel(model = model_simple, \\\n",
        "                    days_from_today = days_from_today)\n",
        "else:\n",
        "  submodel = Delta_SubModel(model = model_simple, \\\n",
        "                    days_from_today = 0)\n",
        "  \n",
        "nn_delta = submodel(I_range)\n",
        "\n",
        "# Create a plot of Black-Scholes delta against deep hedging delta.\n",
        "fig_delta = plt.figure(dpi= 125, facecolor='w')\n",
        "fig_delta.suptitle(\"Black-Scholes Delta vs Deep Hedging Delta \\n\", \\\n",
        "      fontweight=\"bold\")\n",
        "ax_delta = fig_delta.add_subplot()\n",
        "ax_delta.set_title(\"Simple Network Structure with \" + \\\n",
        "            \"t=\" + str(days_from_today) + \", \" + \\\n",
        "              \"epsilon=\" + str(epsilon), \\\n",
        "              fontsize=8)\n",
        "ax_delta.set_xlabel(\"Price of the Underlying Asset\")\n",
        "ax_delta.set_ylabel(\"Delta\")\n",
        "ax_delta.plot(S_range, model_delta, label=\"Black-Scholes Delta\")\n",
        "ax_delta.scatter(in_sample_range,nn_delta[np.any([S_range>=min_S, S_range <= max_S], axis=0)], c=\"red\", s=2, label=\"In-Range DH Delta\")\n",
        "ax_delta.scatter(out_sample_range_low,nn_delta[S_range<min_S], c=\"green\", s=2, label=\"Out-of-Range DH Delta\")\n",
        "ax_delta.scatter(out_sample_range_high,nn_delta[S_range>max_S], c=\"green\", s=2)\n",
        "\n",
        "ax_delta.legend()\n",
        "plt.show()"
      ],
      "execution_count": 135,
      "outputs": [
        {
          "output_type": "display_data",
          "data": {
            "image/png": "[encoded data removed]",
            "text/plain": [
              "<Figure size 750x500 with 1 Axes>"
            ]
          },
          "metadata": {
            "tags": []
          }
        }
      ]
    },
    {
      "cell_type": "code",
      "metadata": {
        "id": "HB30_rsRhMT2",
        "colab_type": "code",
        "colab": {
          "base_uri": "https://localhost:8080/",
          "height": 575
        },
        "cellView": "form",
        "outputId": "b3e9c51f-0351-4a26-cf3c-b5ee514e2188"
      },
      "source": [
        "#@title <font color='Blue'>**Results: Simulation Model Uncertainty**</font>\n",
        "real_factor = 1.1\n",
        "stochastic_process_real = BlackScholesProcess(s0 = S0, sigma = sigma*real_factor, risk_free = risk_free, \\\n",
        "                        dividend = dividend, day_count = day_count, seed=seed)\n",
        "\n",
        "S_real = stochastic_process_real.gen_path(maturity, N, test_size)\n",
        "\n",
        "# Create the testing data for the actual process\n",
        "payoff_T_real = payoff_func(S_real[:,-1]) # Payoff of the call option\n",
        "\n",
        "trade_set_real =  np.stack((S_real),axis=1) # Trading set\n",
        "\n",
        "if information_set is \"S\":\n",
        "  I_real =  np.stack((S_real),axis=1) # Information set\n",
        "elif information_set is \"log_S\":\n",
        "  I_real =  np.stack((np.log(S_real)),axis=1)\n",
        "elif information_set is \"normalized_log_S\":\n",
        "  I_real =  np.stack((np.log(S_real/S0)),axis=1)\n",
        "\n",
        "# Structure of xtrain:\n",
        "#   1) Trade set: [S]\n",
        "#   2) Information set: [S] \n",
        "#   3) payoff (dim = 1)\n",
        "x_all_real = []\n",
        "for i in range(N+1):\n",
        "  x_all_real += [trade_set_real[i,:,None]]\n",
        "  if i != N:\n",
        "    x_all_real += [I_real[i,:,None]]\n",
        "x_all_real += [payoff_T_real[:,None]]\n",
        "\n",
        "# New Black-Scholes Price\n",
        "price_BS_real = call.get_BS_price(S = S_real, sigma = sigma*real_factor, \\\n",
        "              risk_free = risk_free, dividend = dividend, K = strike, \\\n",
        "              exercise_date = maturity_date, \\\n",
        "              calculation_date = calculation_date, \\\n",
        "              day_count = day_count, dt = dt)\n",
        "delta_BS_real = call.get_BS_delta(S = S_real, sigma = sigma*real_factor, \\\n",
        "              risk_free = risk_free, dividend = dividend, K = strike, \\\n",
        "              exercise_date = maturity_date, \\\n",
        "              calculation_date = calculation_date, \n",
        "              day_count = day_count, dt = dt)\n",
        "\n",
        "PnL_BS_real =  call.get_BS_PnL(S= S_real, \\\n",
        "              payoff= payoff_func(S_real[:,-1]), delta=delta_BS_real, \\\n",
        "              dt= dt, risk_free = risk_free, \\\n",
        "              final_period_cost=final_period_cost, epsilon=epsilon, \\\n",
        "              cost_structure = cost_structure )\n",
        "\n",
        "# Plot PnL\n",
        "bar1 = PnL_BS_real + price_BS_real[0][0]\n",
        "bar2 = model_simple(x_all_real).numpy().squeeze() + price_BS[0][0]\n",
        "\n",
        "# Plot Black-Scholes PnL and Deep Hedging PnL (with BS_price charged on both).\n",
        "fig_PnL = plt.figure(dpi= 125, facecolor='w')\n",
        "fig_PnL.suptitle(\"Black-Scholes PnL vs Deep Hedging PnL \\n\", \\\n",
        "      fontweight=\"bold\")\n",
        "ax = fig_PnL.add_subplot()\n",
        "ax.set_title(\"Simple Network Structure with epsilon = \" + str(epsilon), \\\n",
        "      fontsize=8)\n",
        "ax.set_xlabel(\"PnL\")\n",
        "ax.set_ylabel(\"Frequency\")\n",
        "ax.hist((bar1,bar2), bins=30, \\\n",
        "          label=[\"BS PnL - True Vol\", \"DH PnL - Misspecified Vol\"])\n",
        "ax.legend()\n",
        "\n",
        "print(model_simple.evaluate(x_all_real, batch_size=test_size, verbose=0))\n",
        "print(Entropy(PnL_BS_real, tf.Variable(0.0), 1.0).numpy())\n",
        "\n",
        "plt.show()"
      ],
      "execution_count": 136,
      "outputs": [
        {
          "output_type": "stream",
          "text": [
            "100%|██████████| 20000/20000 [00:02<00:00, 7310.15it/s]\n"
          ],
          "name": "stderr"
        },
        {
          "output_type": "stream",
          "text": [
            "2.6327295303344727\n",
            "2.6033865639551683\n"
          ],
          "name": "stdout"
        },
        {
          "output_type": "display_data",
          "data": {
            "image/png": "[encoded data removed]",
            "text/plain": [
              "<Figure size 750x500 with 1 Axes>"
            ]
          },
          "metadata": {
            "tags": []
          }
        }
      ]
    }
  ]
}